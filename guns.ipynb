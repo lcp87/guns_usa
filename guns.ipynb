{
 "cells": [
  {
   "cell_type": "markdown",
   "metadata": {},
   "source": [
    "# Guns in USA"
   ]
  },
  {
   "cell_type": "markdown",
   "metadata": {},
   "source": [
    "https://www.atf.gov/resource-center/data-statistics"
   ]
  },
  {
   "cell_type": "code",
   "execution_count": 1,
   "metadata": {},
   "outputs": [],
   "source": [
    "import pandas as pd\n",
    "import numpy as np\n",
    "import sidetable\n",
    "import matplotlib.pyplot as plt\n",
    "import seaborn as sns"
   ]
  },
  {
   "cell_type": "markdown",
   "metadata": {},
   "source": [
    "<font color= \"cian\"> data from: https://fivethirtyeight.com/features/gun-deaths-about/ "
   ]
  },
  {
   "cell_type": "markdown",
   "metadata": {},
   "source": [
    "<font color= \"cian\"> Loading the data"
   ]
  },
  {
   "cell_type": "code",
   "execution_count": 2,
   "metadata": {},
   "outputs": [],
   "source": [
    "df = pd.read_csv(\"full_data.csv\", index_col = 0)"
   ]
  },
  {
   "cell_type": "markdown",
   "metadata": {},
   "source": [
    "<font color= \"cian\"> Exploring the data: I want to explore the shape of our dataframe(df), unique values, typo errors, types of data, columns..."
   ]
  },
  {
   "cell_type": "code",
   "execution_count": 3,
   "metadata": {},
   "outputs": [
    {
     "data": {
      "text/html": [
       "<div>\n",
       "<style scoped>\n",
       "    .dataframe tbody tr th:only-of-type {\n",
       "        vertical-align: middle;\n",
       "    }\n",
       "\n",
       "    .dataframe tbody tr th {\n",
       "        vertical-align: top;\n",
       "    }\n",
       "\n",
       "    .dataframe thead th {\n",
       "        text-align: right;\n",
       "    }\n",
       "</style>\n",
       "<table border=\"1\" class=\"dataframe\">\n",
       "  <thead>\n",
       "    <tr style=\"text-align: right;\">\n",
       "      <th></th>\n",
       "      <th>year</th>\n",
       "      <th>month</th>\n",
       "      <th>intent</th>\n",
       "      <th>police</th>\n",
       "      <th>sex</th>\n",
       "      <th>age</th>\n",
       "      <th>race</th>\n",
       "      <th>hispanic</th>\n",
       "      <th>place</th>\n",
       "      <th>education</th>\n",
       "    </tr>\n",
       "  </thead>\n",
       "  <tbody>\n",
       "    <tr>\n",
       "      <th>1</th>\n",
       "      <td>2012</td>\n",
       "      <td>1</td>\n",
       "      <td>Suicide</td>\n",
       "      <td>0</td>\n",
       "      <td>M</td>\n",
       "      <td>34.0</td>\n",
       "      <td>Asian/Pacific Islander</td>\n",
       "      <td>100</td>\n",
       "      <td>Home</td>\n",
       "      <td>BA+</td>\n",
       "    </tr>\n",
       "    <tr>\n",
       "      <th>2</th>\n",
       "      <td>2012</td>\n",
       "      <td>1</td>\n",
       "      <td>Suicide</td>\n",
       "      <td>0</td>\n",
       "      <td>F</td>\n",
       "      <td>21.0</td>\n",
       "      <td>White</td>\n",
       "      <td>100</td>\n",
       "      <td>Street</td>\n",
       "      <td>Some college</td>\n",
       "    </tr>\n",
       "    <tr>\n",
       "      <th>3</th>\n",
       "      <td>2012</td>\n",
       "      <td>1</td>\n",
       "      <td>Suicide</td>\n",
       "      <td>0</td>\n",
       "      <td>M</td>\n",
       "      <td>60.0</td>\n",
       "      <td>White</td>\n",
       "      <td>100</td>\n",
       "      <td>Other specified</td>\n",
       "      <td>BA+</td>\n",
       "    </tr>\n",
       "    <tr>\n",
       "      <th>4</th>\n",
       "      <td>2012</td>\n",
       "      <td>2</td>\n",
       "      <td>Suicide</td>\n",
       "      <td>0</td>\n",
       "      <td>M</td>\n",
       "      <td>64.0</td>\n",
       "      <td>White</td>\n",
       "      <td>100</td>\n",
       "      <td>Home</td>\n",
       "      <td>BA+</td>\n",
       "    </tr>\n",
       "    <tr>\n",
       "      <th>5</th>\n",
       "      <td>2012</td>\n",
       "      <td>2</td>\n",
       "      <td>Suicide</td>\n",
       "      <td>0</td>\n",
       "      <td>M</td>\n",
       "      <td>31.0</td>\n",
       "      <td>White</td>\n",
       "      <td>100</td>\n",
       "      <td>Other specified</td>\n",
       "      <td>HS/GED</td>\n",
       "    </tr>\n",
       "  </tbody>\n",
       "</table>\n",
       "</div>"
      ],
      "text/plain": [
       "   year  month   intent  police sex   age                    race  hispanic  \\\n",
       "1  2012      1  Suicide       0   M  34.0  Asian/Pacific Islander       100   \n",
       "2  2012      1  Suicide       0   F  21.0                   White       100   \n",
       "3  2012      1  Suicide       0   M  60.0                   White       100   \n",
       "4  2012      2  Suicide       0   M  64.0                   White       100   \n",
       "5  2012      2  Suicide       0   M  31.0                   White       100   \n",
       "\n",
       "             place     education  \n",
       "1             Home           BA+  \n",
       "2           Street  Some college  \n",
       "3  Other specified           BA+  \n",
       "4             Home           BA+  \n",
       "5  Other specified        HS/GED  "
      ]
     },
     "execution_count": 3,
     "metadata": {},
     "output_type": "execute_result"
    }
   ],
   "source": [
    "df.head()"
   ]
  },
  {
   "cell_type": "code",
   "execution_count": 59,
   "metadata": {},
   "outputs": [
    {
     "data": {
      "text/plain": [
       "Index(['year', 'month', 'intent', 'police', 'sex', 'age', 'race', 'hispanic',\n",
       "       'place', 'education'],\n",
       "      dtype='object')"
      ]
     },
     "execution_count": 59,
     "metadata": {},
     "output_type": "execute_result"
    }
   ],
   "source": [
    "df.columns"
   ]
  },
  {
   "cell_type": "markdown",
   "metadata": {},
   "source": [
    "`year`  year of the event\n",
    "`month`  month of the event\n",
    "`intent` : 'Suicide','Undetermined','Accidental','Homicide'\n",
    "`police` :   '0', '1'\n",
    "`sex`: 'M', 'F'\n",
    "`age`: 0-107\n",
    "`race`: 'Asian/Pacific Islander' 'White' 'Native American/Native Alaskan' 'Black' 'Hispanic'\n",
    "`hispanic`: identification number for coding race \n",
    "`place`: 'Home' 'Street' 'Other specified' 'Other unspecified'  'Trade/service area' 'Farm' 'Industrial/construction' 'School/instiution'  'Sports' 'Residential institution'->\n",
    "`education`: 'BA+' 'Some college' 'HS/GED' 'Less than HS'"
   ]
  },
  {
   "cell_type": "code",
   "execution_count": 4,
   "metadata": {},
   "outputs": [
    {
     "data": {
      "text/plain": [
       "(100798, 10)"
      ]
     },
     "execution_count": 4,
     "metadata": {},
     "output_type": "execute_result"
    }
   ],
   "source": [
    "df.shape"
   ]
  },
  {
   "cell_type": "code",
   "execution_count": 5,
   "metadata": {},
   "outputs": [
    {
     "data": {
      "text/plain": [
       "year           int64\n",
       "month          int64\n",
       "intent        object\n",
       "police         int64\n",
       "sex           object\n",
       "age          float64\n",
       "race          object\n",
       "hispanic       int64\n",
       "place         object\n",
       "education     object\n",
       "dtype: object"
      ]
     },
     "execution_count": 5,
     "metadata": {},
     "output_type": "execute_result"
    }
   ],
   "source": [
    "df.dtypes"
   ]
  },
  {
   "cell_type": "markdown",
   "metadata": {},
   "source": [
    "<font color= \"cian\"> All the types look correctly."
   ]
  },
  {
   "cell_type": "markdown",
   "metadata": {},
   "source": [
    "<font color= \"cian\"> Exploring nulls"
   ]
  },
  {
   "cell_type": "code",
   "execution_count": 6,
   "metadata": {},
   "outputs": [
    {
     "data": {
      "text/html": [
       "<div>\n",
       "<style scoped>\n",
       "    .dataframe tbody tr th:only-of-type {\n",
       "        vertical-align: middle;\n",
       "    }\n",
       "\n",
       "    .dataframe tbody tr th {\n",
       "        vertical-align: top;\n",
       "    }\n",
       "\n",
       "    .dataframe thead th {\n",
       "        text-align: right;\n",
       "    }\n",
       "</style>\n",
       "<table border=\"1\" class=\"dataframe\">\n",
       "  <thead>\n",
       "    <tr style=\"text-align: right;\">\n",
       "      <th></th>\n",
       "      <th>0</th>\n",
       "    </tr>\n",
       "  </thead>\n",
       "  <tbody>\n",
       "    <tr>\n",
       "      <th>year</th>\n",
       "      <td>0.000000</td>\n",
       "    </tr>\n",
       "    <tr>\n",
       "      <th>month</th>\n",
       "      <td>0.000000</td>\n",
       "    </tr>\n",
       "    <tr>\n",
       "      <th>intent</th>\n",
       "      <td>0.000992</td>\n",
       "    </tr>\n",
       "    <tr>\n",
       "      <th>police</th>\n",
       "      <td>0.000000</td>\n",
       "    </tr>\n",
       "    <tr>\n",
       "      <th>sex</th>\n",
       "      <td>0.000000</td>\n",
       "    </tr>\n",
       "    <tr>\n",
       "      <th>age</th>\n",
       "      <td>0.017857</td>\n",
       "    </tr>\n",
       "    <tr>\n",
       "      <th>race</th>\n",
       "      <td>0.000000</td>\n",
       "    </tr>\n",
       "    <tr>\n",
       "      <th>hispanic</th>\n",
       "      <td>0.000000</td>\n",
       "    </tr>\n",
       "    <tr>\n",
       "      <th>place</th>\n",
       "      <td>1.373043</td>\n",
       "    </tr>\n",
       "    <tr>\n",
       "      <th>education</th>\n",
       "      <td>1.410742</td>\n",
       "    </tr>\n",
       "  </tbody>\n",
       "</table>\n",
       "</div>"
      ],
      "text/plain": [
       "                  0\n",
       "year       0.000000\n",
       "month      0.000000\n",
       "intent     0.000992\n",
       "police     0.000000\n",
       "sex        0.000000\n",
       "age        0.017857\n",
       "race       0.000000\n",
       "hispanic   0.000000\n",
       "place      1.373043\n",
       "education  1.410742"
      ]
     },
     "execution_count": 6,
     "metadata": {},
     "output_type": "execute_result"
    }
   ],
   "source": [
    "percent_missing = pd.DataFrame(df.isna().sum()*100 / len(df))\n",
    "percent_missing"
   ]
  },
  {
   "cell_type": "markdown",
   "metadata": {},
   "source": [
    "<font color= \"cian\">"
   ]
  },
  {
   "cell_type": "markdown",
   "metadata": {},
   "source": [
    "<font color= \"cian\"> I assume that this 1% of nulls is not so much, then I will eliminate them."
   ]
  },
  {
   "cell_type": "code",
   "execution_count": 7,
   "metadata": {},
   "outputs": [],
   "source": [
    "df.dropna(inplace= True)"
   ]
  },
  {
   "cell_type": "code",
   "execution_count": 9,
   "metadata": {},
   "outputs": [
    {
     "data": {
      "text/html": [
       "<div>\n",
       "<style scoped>\n",
       "    .dataframe tbody tr th:only-of-type {\n",
       "        vertical-align: middle;\n",
       "    }\n",
       "\n",
       "    .dataframe tbody tr th {\n",
       "        vertical-align: top;\n",
       "    }\n",
       "\n",
       "    .dataframe thead th {\n",
       "        text-align: right;\n",
       "    }\n",
       "</style>\n",
       "<table border=\"1\" class=\"dataframe\">\n",
       "  <thead>\n",
       "    <tr style=\"text-align: right;\">\n",
       "      <th></th>\n",
       "      <th>0</th>\n",
       "    </tr>\n",
       "  </thead>\n",
       "  <tbody>\n",
       "    <tr>\n",
       "      <th>year</th>\n",
       "      <td>0.0</td>\n",
       "    </tr>\n",
       "    <tr>\n",
       "      <th>month</th>\n",
       "      <td>0.0</td>\n",
       "    </tr>\n",
       "    <tr>\n",
       "      <th>intent</th>\n",
       "      <td>0.0</td>\n",
       "    </tr>\n",
       "    <tr>\n",
       "      <th>police</th>\n",
       "      <td>0.0</td>\n",
       "    </tr>\n",
       "    <tr>\n",
       "      <th>sex</th>\n",
       "      <td>0.0</td>\n",
       "    </tr>\n",
       "    <tr>\n",
       "      <th>age</th>\n",
       "      <td>0.0</td>\n",
       "    </tr>\n",
       "    <tr>\n",
       "      <th>race</th>\n",
       "      <td>0.0</td>\n",
       "    </tr>\n",
       "    <tr>\n",
       "      <th>hispanic</th>\n",
       "      <td>0.0</td>\n",
       "    </tr>\n",
       "    <tr>\n",
       "      <th>place</th>\n",
       "      <td>0.0</td>\n",
       "    </tr>\n",
       "    <tr>\n",
       "      <th>education</th>\n",
       "      <td>0.0</td>\n",
       "    </tr>\n",
       "  </tbody>\n",
       "</table>\n",
       "</div>"
      ],
      "text/plain": [
       "             0\n",
       "year       0.0\n",
       "month      0.0\n",
       "intent     0.0\n",
       "police     0.0\n",
       "sex        0.0\n",
       "age        0.0\n",
       "race       0.0\n",
       "hispanic   0.0\n",
       "place      0.0\n",
       "education  0.0"
      ]
     },
     "execution_count": 9,
     "metadata": {},
     "output_type": "execute_result"
    }
   ],
   "source": [
    "# Check if there are nans after clean them\n",
    "percent_missing = pd.DataFrame(df.isna().sum()*100 / len(df))\n",
    "percent_missing"
   ]
  },
  {
   "cell_type": "markdown",
   "metadata": {},
   "source": [
    "<font color= \"cian\"> Are there duplicates?"
   ]
  },
  {
   "cell_type": "code",
   "execution_count": 10,
   "metadata": {},
   "outputs": [
    {
     "data": {
      "text/plain": [
       "39.190940162220066"
      ]
     },
     "execution_count": 10,
     "metadata": {},
     "output_type": "execute_result"
    }
   ],
   "source": [
    "df.duplicated().sum()*100/len(df)"
   ]
  },
  {
   "cell_type": "markdown",
   "metadata": {},
   "source": [
    "<font color= \"cian\"> We have many duplicates but is logical because of the type our data. I decide to maintain them. "
   ]
  },
  {
   "cell_type": "markdown",
   "metadata": {},
   "source": [
    "<font color= \"cian\"> The columns of our dataset"
   ]
  },
  {
   "cell_type": "code",
   "execution_count": 11,
   "metadata": {},
   "outputs": [
    {
     "data": {
      "text/plain": [
       "Index(['year', 'month', 'intent', 'police', 'sex', 'age', 'race', 'hispanic',\n",
       "       'place', 'education'],\n",
       "      dtype='object')"
      ]
     },
     "execution_count": 11,
     "metadata": {},
     "output_type": "execute_result"
    }
   ],
   "source": [
    "df.columns"
   ]
  },
  {
   "cell_type": "markdown",
   "metadata": {},
   "source": [
    "<font color= \"cian\"> Different categories or types of gun deaths (unique values)"
   ]
  },
  {
   "cell_type": "code",
   "execution_count": 12,
   "metadata": {},
   "outputs": [
    {
     "name": "stdout",
     "output_type": "stream",
     "text": [
      "\n",
      " In the variable ---------->  year ----- > These are the unique values:   [2012 2013 2014]\n",
      "\n",
      " In the variable ---------->  month ----- > These are the unique values:   [ 1  2  3  4  5  6  7  8  9 10 11 12]\n",
      "\n",
      " In the variable ---------->  intent ----- > These are the unique values:   ['Suicide' 'Undetermined' 'Accidental' 'Homicide']\n",
      "\n",
      " In the variable ---------->  police ----- > These are the unique values:   [0 1]\n",
      "\n",
      " In the variable ---------->  sex ----- > These are the unique values:   ['M' 'F']\n",
      "\n",
      " In the variable ---------->  age ----- > These are the unique values:   [ 34.  21.  60.  64.  31.  17.  48.  41.  50.  30.  43.  27.  55.  53.\n",
      "  51.  65.  52.  47.  19.  22.  56.  38.  25.  26.  23.  87.  28.  39.\n",
      "  59.  61.  12.  40.  57.  20.  62.  71.  44.  29.  24.   9.  77.  18.\n",
      "  36.  49.  13.  33.  90.  63.  46.  32.  84.  68.  89.  58.  78.  66.\n",
      "  81.  54.  45.  37.  35.  42.  67.  69.  72.  82.  75.  73.  15.  83.\n",
      "  74.  86.  16.  88.  80.  79.  91.  76.  14.  95.  96.  70.   7.  85.\n",
      "  93.   4.   1.  92.  97.   3.   2.  94.  11.   8.   6.   0.  99.  10.\n",
      "  98.   5. 102. 107. 101.]\n",
      "\n",
      " In the variable ---------->  race ----- > These are the unique values:   ['Asian/Pacific Islander' 'White' 'Native American/Native Alaskan' 'Black'\n",
      " 'Hispanic']\n",
      "\n",
      " In the variable ---------->  hispanic ----- > These are the unique values:   [100 281 211 261 210 222 282 260 998 231 237 200 223 270 226 275 250 234\n",
      " 280 227 224 286 233 271 220 225 235 242 212 221 239 299 232 291 217 252\n",
      " 209 238 218]\n",
      "\n",
      " In the variable ---------->  place ----- > These are the unique values:   ['Home' 'Street' 'Other specified' 'Other unspecified'\n",
      " 'Trade/service area' 'Farm' 'Industrial/construction' 'School/instiution'\n",
      " 'Sports' 'Residential institution']\n",
      "\n",
      " In the variable ---------->  education ----- > These are the unique values:   ['BA+' 'Some college' 'HS/GED' 'Less than HS']\n"
     ]
    }
   ],
   "source": [
    "for col in df.columns:\n",
    "    print(\"\\n In the variable ----------> \", col,\"----- > These are the unique values:  \", df[col].unique())"
   ]
  },
  {
   "cell_type": "markdown",
   "metadata": {},
   "source": [
    "<font color= \"red\"> Investigate what is each column and their values. Hispanic? Looking for the information about 'hispanic' I found that it is the identification number to categorize the variable `race`"
   ]
  },
  {
   "cell_type": "code",
   "execution_count": 58,
   "metadata": {},
   "outputs": [
    {
     "data": {
      "text/plain": [
       "array([100, 281, 211, 261, 210, 222, 282, 260, 998, 231, 237, 200, 223,\n",
       "       270, 226, 275, 250, 234, 280, 227, 224, 286, 233, 271, 220, 225,\n",
       "       235, 242, 212, 221, 239, 299, 232, 291, 217, 252, 209, 238, 218],\n",
       "      dtype=int64)"
      ]
     },
     "execution_count": 58,
     "metadata": {},
     "output_type": "execute_result"
    }
   ],
   "source": [
    "df[\"hispanic\"].unique()"
   ]
  },
  {
   "cell_type": "code",
   "execution_count": 13,
   "metadata": {},
   "outputs": [
    {
     "data": {
      "text/html": [
       "<div>\n",
       "<style scoped>\n",
       "    .dataframe tbody tr th:only-of-type {\n",
       "        vertical-align: middle;\n",
       "    }\n",
       "\n",
       "    .dataframe tbody tr th {\n",
       "        vertical-align: top;\n",
       "    }\n",
       "\n",
       "    .dataframe thead th {\n",
       "        text-align: right;\n",
       "    }\n",
       "</style>\n",
       "<table border=\"1\" class=\"dataframe\">\n",
       "  <thead>\n",
       "    <tr style=\"text-align: right;\">\n",
       "      <th></th>\n",
       "      <th>year</th>\n",
       "      <th>month</th>\n",
       "      <th>police</th>\n",
       "      <th>age</th>\n",
       "      <th>hispanic</th>\n",
       "    </tr>\n",
       "  </thead>\n",
       "  <tbody>\n",
       "    <tr>\n",
       "      <th>count</th>\n",
       "      <td>98015.000000</td>\n",
       "      <td>98015.000000</td>\n",
       "      <td>98015.000000</td>\n",
       "      <td>98015.000000</td>\n",
       "      <td>98015.000000</td>\n",
       "    </tr>\n",
       "    <tr>\n",
       "      <th>mean</th>\n",
       "      <td>2013.000561</td>\n",
       "      <td>6.567780</td>\n",
       "      <td>0.000194</td>\n",
       "      <td>43.900209</td>\n",
       "      <td>112.420650</td>\n",
       "    </tr>\n",
       "    <tr>\n",
       "      <th>std</th>\n",
       "      <td>0.816136</td>\n",
       "      <td>3.406984</td>\n",
       "      <td>0.013922</td>\n",
       "      <td>19.522908</td>\n",
       "      <td>49.320698</td>\n",
       "    </tr>\n",
       "    <tr>\n",
       "      <th>min</th>\n",
       "      <td>2012.000000</td>\n",
       "      <td>1.000000</td>\n",
       "      <td>0.000000</td>\n",
       "      <td>0.000000</td>\n",
       "      <td>100.000000</td>\n",
       "    </tr>\n",
       "    <tr>\n",
       "      <th>25%</th>\n",
       "      <td>2012.000000</td>\n",
       "      <td>4.000000</td>\n",
       "      <td>0.000000</td>\n",
       "      <td>27.000000</td>\n",
       "      <td>100.000000</td>\n",
       "    </tr>\n",
       "    <tr>\n",
       "      <th>50%</th>\n",
       "      <td>2013.000000</td>\n",
       "      <td>7.000000</td>\n",
       "      <td>0.000000</td>\n",
       "      <td>42.000000</td>\n",
       "      <td>100.000000</td>\n",
       "    </tr>\n",
       "    <tr>\n",
       "      <th>75%</th>\n",
       "      <td>2014.000000</td>\n",
       "      <td>9.000000</td>\n",
       "      <td>0.000000</td>\n",
       "      <td>58.000000</td>\n",
       "      <td>100.000000</td>\n",
       "    </tr>\n",
       "    <tr>\n",
       "      <th>max</th>\n",
       "      <td>2014.000000</td>\n",
       "      <td>12.000000</td>\n",
       "      <td>1.000000</td>\n",
       "      <td>107.000000</td>\n",
       "      <td>998.000000</td>\n",
       "    </tr>\n",
       "  </tbody>\n",
       "</table>\n",
       "</div>"
      ],
      "text/plain": [
       "               year         month        police           age      hispanic\n",
       "count  98015.000000  98015.000000  98015.000000  98015.000000  98015.000000\n",
       "mean    2013.000561      6.567780      0.000194     43.900209    112.420650\n",
       "std        0.816136      3.406984      0.013922     19.522908     49.320698\n",
       "min     2012.000000      1.000000      0.000000      0.000000    100.000000\n",
       "25%     2012.000000      4.000000      0.000000     27.000000    100.000000\n",
       "50%     2013.000000      7.000000      0.000000     42.000000    100.000000\n",
       "75%     2014.000000      9.000000      0.000000     58.000000    100.000000\n",
       "max     2014.000000     12.000000      1.000000    107.000000    998.000000"
      ]
     },
     "execution_count": 13,
     "metadata": {},
     "output_type": "execute_result"
    }
   ],
   "source": [
    "df.describe()"
   ]
  },
  {
   "cell_type": "markdown",
   "metadata": {},
   "source": [
    "<font color= \"cian\"> We have to investigate what each variable is "
   ]
  },
  {
   "cell_type": "code",
   "execution_count": 14,
   "metadata": {},
   "outputs": [
    {
     "data": {
      "text/html": [
       "<div>\n",
       "<style scoped>\n",
       "    .dataframe tbody tr th:only-of-type {\n",
       "        vertical-align: middle;\n",
       "    }\n",
       "\n",
       "    .dataframe tbody tr th {\n",
       "        vertical-align: top;\n",
       "    }\n",
       "\n",
       "    .dataframe thead th {\n",
       "        text-align: right;\n",
       "    }\n",
       "</style>\n",
       "<table border=\"1\" class=\"dataframe\">\n",
       "  <thead>\n",
       "    <tr style=\"text-align: right;\">\n",
       "      <th></th>\n",
       "      <th>intent</th>\n",
       "      <th>sex</th>\n",
       "      <th>race</th>\n",
       "      <th>place</th>\n",
       "      <th>education</th>\n",
       "    </tr>\n",
       "  </thead>\n",
       "  <tbody>\n",
       "    <tr>\n",
       "      <th>count</th>\n",
       "      <td>98015</td>\n",
       "      <td>98015</td>\n",
       "      <td>98015</td>\n",
       "      <td>98015</td>\n",
       "      <td>98015</td>\n",
       "    </tr>\n",
       "    <tr>\n",
       "      <th>unique</th>\n",
       "      <td>4</td>\n",
       "      <td>2</td>\n",
       "      <td>5</td>\n",
       "      <td>10</td>\n",
       "      <td>4</td>\n",
       "    </tr>\n",
       "    <tr>\n",
       "      <th>top</th>\n",
       "      <td>Suicide</td>\n",
       "      <td>M</td>\n",
       "      <td>White</td>\n",
       "      <td>Home</td>\n",
       "      <td>HS/GED</td>\n",
       "    </tr>\n",
       "    <tr>\n",
       "      <th>freq</th>\n",
       "      <td>62291</td>\n",
       "      <td>83835</td>\n",
       "      <td>64598</td>\n",
       "      <td>59622</td>\n",
       "      <td>42258</td>\n",
       "    </tr>\n",
       "  </tbody>\n",
       "</table>\n",
       "</div>"
      ],
      "text/plain": [
       "         intent    sex   race  place education\n",
       "count     98015  98015  98015  98015     98015\n",
       "unique        4      2      5     10         4\n",
       "top     Suicide      M  White   Home    HS/GED\n",
       "freq      62291  83835  64598  59622     42258"
      ]
     },
     "execution_count": 14,
     "metadata": {},
     "output_type": "execute_result"
    }
   ],
   "source": [
    "df.describe(include=\"object\")"
   ]
  },
  {
   "cell_type": "markdown",
   "metadata": {},
   "source": [
    "<font color= \"cian\"> I explore outliers"
   ]
  },
  {
   "cell_type": "code",
   "execution_count": 15,
   "metadata": {},
   "outputs": [
    {
     "data": {
      "text/html": [
       "<div>\n",
       "<style scoped>\n",
       "    .dataframe tbody tr th:only-of-type {\n",
       "        vertical-align: middle;\n",
       "    }\n",
       "\n",
       "    .dataframe tbody tr th {\n",
       "        vertical-align: top;\n",
       "    }\n",
       "\n",
       "    .dataframe thead th {\n",
       "        text-align: right;\n",
       "    }\n",
       "</style>\n",
       "<table border=\"1\" class=\"dataframe\">\n",
       "  <thead>\n",
       "    <tr style=\"text-align: right;\">\n",
       "      <th></th>\n",
       "      <th>year</th>\n",
       "      <th>month</th>\n",
       "      <th>police</th>\n",
       "      <th>age</th>\n",
       "      <th>hispanic</th>\n",
       "    </tr>\n",
       "  </thead>\n",
       "  <tbody>\n",
       "    <tr>\n",
       "      <th>1</th>\n",
       "      <td>2012</td>\n",
       "      <td>1</td>\n",
       "      <td>0</td>\n",
       "      <td>34.0</td>\n",
       "      <td>100</td>\n",
       "    </tr>\n",
       "    <tr>\n",
       "      <th>2</th>\n",
       "      <td>2012</td>\n",
       "      <td>1</td>\n",
       "      <td>0</td>\n",
       "      <td>21.0</td>\n",
       "      <td>100</td>\n",
       "    </tr>\n",
       "    <tr>\n",
       "      <th>3</th>\n",
       "      <td>2012</td>\n",
       "      <td>1</td>\n",
       "      <td>0</td>\n",
       "      <td>60.0</td>\n",
       "      <td>100</td>\n",
       "    </tr>\n",
       "    <tr>\n",
       "      <th>4</th>\n",
       "      <td>2012</td>\n",
       "      <td>2</td>\n",
       "      <td>0</td>\n",
       "      <td>64.0</td>\n",
       "      <td>100</td>\n",
       "    </tr>\n",
       "    <tr>\n",
       "      <th>5</th>\n",
       "      <td>2012</td>\n",
       "      <td>2</td>\n",
       "      <td>0</td>\n",
       "      <td>31.0</td>\n",
       "      <td>100</td>\n",
       "    </tr>\n",
       "  </tbody>\n",
       "</table>\n",
       "</div>"
      ],
      "text/plain": [
       "   year  month  police   age  hispanic\n",
       "1  2012      1       0  34.0       100\n",
       "2  2012      1       0  21.0       100\n",
       "3  2012      1       0  60.0       100\n",
       "4  2012      2       0  64.0       100\n",
       "5  2012      2       0  31.0       100"
      ]
     },
     "execution_count": 15,
     "metadata": {},
     "output_type": "execute_result"
    }
   ],
   "source": [
    "# I select only the numerical variables\n",
    "df_num = df.select_dtypes(include = np.number)\n",
    "df_num.head()"
   ]
  },
  {
   "cell_type": "code",
   "execution_count": 135,
   "metadata": {},
   "outputs": [
    {
     "data": {
      "text/html": [
       "<div>\n",
       "<style scoped>\n",
       "    .dataframe tbody tr th:only-of-type {\n",
       "        vertical-align: middle;\n",
       "    }\n",
       "\n",
       "    .dataframe tbody tr th {\n",
       "        vertical-align: top;\n",
       "    }\n",
       "\n",
       "    .dataframe thead th {\n",
       "        text-align: right;\n",
       "    }\n",
       "</style>\n",
       "<table border=\"1\" class=\"dataframe\">\n",
       "  <thead>\n",
       "    <tr style=\"text-align: right;\">\n",
       "      <th></th>\n",
       "      <th>intent</th>\n",
       "      <th>sex</th>\n",
       "      <th>race</th>\n",
       "      <th>place</th>\n",
       "      <th>education</th>\n",
       "    </tr>\n",
       "  </thead>\n",
       "  <tbody>\n",
       "    <tr>\n",
       "      <th>1</th>\n",
       "      <td>Suicide</td>\n",
       "      <td>M</td>\n",
       "      <td>Asian/Pacific Islander</td>\n",
       "      <td>Home</td>\n",
       "      <td>BA+</td>\n",
       "    </tr>\n",
       "    <tr>\n",
       "      <th>2</th>\n",
       "      <td>Suicide</td>\n",
       "      <td>F</td>\n",
       "      <td>White</td>\n",
       "      <td>Street</td>\n",
       "      <td>Some college</td>\n",
       "    </tr>\n",
       "    <tr>\n",
       "      <th>3</th>\n",
       "      <td>Suicide</td>\n",
       "      <td>M</td>\n",
       "      <td>White</td>\n",
       "      <td>Other specified</td>\n",
       "      <td>BA+</td>\n",
       "    </tr>\n",
       "    <tr>\n",
       "      <th>4</th>\n",
       "      <td>Suicide</td>\n",
       "      <td>M</td>\n",
       "      <td>White</td>\n",
       "      <td>Home</td>\n",
       "      <td>BA+</td>\n",
       "    </tr>\n",
       "    <tr>\n",
       "      <th>5</th>\n",
       "      <td>Suicide</td>\n",
       "      <td>M</td>\n",
       "      <td>White</td>\n",
       "      <td>Other specified</td>\n",
       "      <td>HS/GED</td>\n",
       "    </tr>\n",
       "  </tbody>\n",
       "</table>\n",
       "</div>"
      ],
      "text/plain": [
       "    intent sex                    race            place     education\n",
       "1  Suicide   M  Asian/Pacific Islander             Home           BA+\n",
       "2  Suicide   F                   White           Street  Some college\n",
       "3  Suicide   M                   White  Other specified           BA+\n",
       "4  Suicide   M                   White             Home           BA+\n",
       "5  Suicide   M                   White  Other specified        HS/GED"
      ]
     },
     "execution_count": 135,
     "metadata": {},
     "output_type": "execute_result"
    }
   ],
   "source": [
    "# Select just the categorical variables\n",
    "df_categ = df.select_dtypes(include= \"object\")\n",
    "df_categ.head()"
   ]
  },
  {
   "cell_type": "code",
   "execution_count": 137,
   "metadata": {},
   "outputs": [
    {
     "data": {
      "text/plain": [
       "Index(['year', 'month', 'police', 'age', 'hispanic'], dtype='object')"
      ]
     },
     "execution_count": 137,
     "metadata": {},
     "output_type": "execute_result"
    }
   ],
   "source": [
    "df_num.columns"
   ]
  },
  {
   "cell_type": "code",
   "execution_count": 38,
   "metadata": {},
   "outputs": [],
   "source": [
    "#function to know outliers in all our dataset\n",
    "def outliers(columns_df, df):\n",
    "\n",
    "    dict_outliers = {}\n",
    "    for col in columns_df:\n",
    "        \n",
    "        q1 = np.percentile(df[col],25) #calculate quartiles\n",
    "        q3 = np.percentile(df[col],75)\n",
    "\n",
    "        iqr = q3 - q1 #calculate interquartile range\n",
    "\n",
    "        outliers_sep = iqr * 1.5 # Calculate the whiskers of the box plot\n",
    "\n",
    "        outliers_data = df[(df[col] < q1 - outliers_sep) | (df[col] > q3 + outliers_sep)] #filtering our data to know what specifics values are outliers\n",
    "\n",
    "        if outliers_data.shape[0] > 0:\n",
    "            dict_outliers[col] = list(outliers_data.index)\n",
    "    \n",
    "    return dict_outliers"
   ]
  },
  {
   "cell_type": "code",
   "execution_count": 39,
   "metadata": {},
   "outputs": [
    {
     "data": {
      "text/plain": [
       "['year', 'month', 'police', 'age', 'hispanic']"
      ]
     },
     "execution_count": 39,
     "metadata": {},
     "output_type": "execute_result"
    }
   ],
   "source": [
    "columns_df = df_num.columns.tolist()\n",
    "columns_df"
   ]
  },
  {
   "cell_type": "code",
   "execution_count": null,
   "metadata": {},
   "outputs": [],
   "source": [
    "index = outliers(columns_df, df_num)\n",
    "index"
   ]
  },
  {
   "cell_type": "code",
   "execution_count": 49,
   "metadata": {},
   "outputs": [
    {
     "data": {
      "text/plain": [
       "dict_items([('police', [2604, 4169, 5345, 10689, 21118, 22884, 22916, 36431, 38713, 44159, 45870, 56263, 56800, 66395, 72125, 77725, 84163, 85259, 99080]), ('age', [34903]), ('hispanic', [94, 103, 158, 192, 258, 604, 826, 863, 906, 907, 908, 931, 1096, 1097, 1107, 1170, 1216, 1301, 1326, 1330, 1348, 1353, 1411, 1435, 1450, 1458, 1462, 1480, 1488, 1494, 1501, 1502, 1508, 1517, 1535, 1538, 1544, 1545, 1552, 1565, 1574, 1580, 1584, 1632, 1634, 1636, 1637, 1640, 1648, 1655, 1658, 1664, 1675, 1676, 1681, 1682, 1686, 1688, 1690, 1693, 1697, 1700, 1703, 1710, 1717, 1723, 1732, 1742, 1755, 1758, 1762, 1780, 1798, 1799, 1813, 1817, 1822, 1828, 1829, 1842, 1846, 1849, 1852, 1854, 1857, 1859, 1862, 1863, 1867, 1869, 1870, 1871, 1872, 1874, 1880, 1883, 1895, 1905, 1910, 1921, 1923, 1927, 1928, 1937, 1949, 1954, 1958, 1967, 1980, 1985, 1986, 1993, 1995, 2004, 2005, 2010, 2011, 2014, 2017, 2032, 2034, 2037, 2038, 2044, 2046, 2047, 2057, 2059, 2071, 2081, 2084, 2088, 2093, 2095, 2100, 2105, 2107, 2108, 2118, 2126, 2138, 2141, 2153, 2157, 2158, 2175, 2178, 2186, 2191, 2193, 2195, 2200, 2201, 2204, 2212, 2214, 2227, 2230, 2236, 2240, 2248, 2256, 2257, 2263, 2264, 2268, 2269, 2272, 2284, 2286, 2290, 2309, 2310, 2318, 2329, 2341, 2346, 2349, 2351, 2352, 2353, 2370, 2373, 2375, 2376, 2384, 2387, 2388, 2395, 2399, 2400, 2405, 2413, 2416, 2417, 2420, 2437, 2454, 2459, 2463, 2467, 2468, 2471, 2474, 2476, 2478, 2482, 2485, 2487, 2490, 2491, 2492, 2493, 2494, 2497, 2503, 2504, 2514, 2517, 2523, 2529, 2530, 2534, 2535, 2541, 2544, 2549, 2555, 2559, 2566, 2571, 2576, 2577, 2580, 2582, 2585, 2589, 2591, 2596, 2598, 2600, 2601, 2602, 2613, 2615, 2616, 2620, 2623, 2625, 2628, 2636, 2639, 2640, 2643, 2644, 2645, 2647, 2651, 2658, 2660, 2661, 2662, 2663, 2666, 2669, 2671, 2675, 2677, 2678, 2686, 2688, 2689, 2700, 2701, 2706, 2708, 2714, 2718, 2720, 2732, 2734, 2740, 2741, 2744, 2750, 2760, 2764, 2782, 2785, 2788, 2789, 2796, 2799, 2807, 2808, 2810, 2812, 2816, 2823, 2826, 2828, 2831, 2833, 2834, 2835, 2840, 2843, 2849, 2850, 2851, 2854, 2857, 2859, 2864, 2870, 2872, 2874, 2879, 2881, 2893, 2894, 2904, 2907, 2909, 2915, 2919, 2921, 2922, 2941, 2942, 2947, 2955, 2957, 2958, 2966, 2968, 2971, 2987, 2988, 2990, 2991, 3004, 3008, 3011, 3012, 3013, 3015, 3022, 3024, 3025, 3027, 3050, 3053, 3060, 3063, 3064, 3066, 3074, 3084, 3089, 3090, 3096, 3098, 3099, 3102, 3111, 3114, 3117, 3119, 3120, 3121, 3127, 3130, 3132, 3139, 3140, 3144, 3145, 3146, 3148, 3155, 3158, 3159, 3164, 3168, 3176, 3181, 3188, 3190, 3201, 3202, 3214, 3220, 3225, 3227, 3239, 3244, 3252, 3263, 3271, 3285, 3288, 3290, 3291, 3294, 3309, 3310, 3313, 3317, 3319, 3320, 3321, 3323, 3324, 3332, 3333, 3335, 3336, 3342, 3346, 3349, 3351, 3354, 3356, 3363, 3375, 3376, 3377, 3378, 3385, 3386, 3391, 3397, 3398, 3406, 3407, 3408, 3418, 3419, 3420, 3422, 3423, 3426, 3427, 3428, 3432, 3434, 3435, 3438, 3439, 3443, 3449, 3456, 3469, 3470, 3476, 3478, 3484, 3491, 3493, 3496, 3497, 3502, 3503, 3510, 3512, 3514, 3517, 3519, 3520, 3521, 3522, 3523, 3528, 3536, 3537, 3541, 3543, 3545, 3551, 3555, 3564, 3571, 3572, 3584, 3601, 3605, 3610, 3612, 3617, 3623, 3626, 3630, 3631, 3633, 3640, 3641, 3647, 3648, 3650, 3651, 3652, 3658, 3670, 3674, 3676, 3677, 3678, 3680, 3685, 3690, 3699, 3707, 3709, 3712, 3717, 3718, 3720, 3721, 3722, 3733, 3735, 3746, 3748, 3750, 3752, 3753, 3755, 3756, 3758, 3761, 3763, 3765, 3766, 3772, 3777, 3781, 3785, 3789, 3796, 3800, 3802, 3803, 3804, 3807, 3811, 3813, 3814, 3815, 3816, 3818, 3821, 3828, 3831, 3832, 3840, 3842, 3844, 3845, 3860, 3861, 3868, 3877, 3878, 3879, 3880, 3885, 3889, 3890, 3892, 3903, 3908, 3911, 3912, 3913, 3914, 3921, 3933, 3938, 3945, 3949, 3951, 3959, 3964, 3965, 3968, 3969, 3980, 3983, 3987, 3992, 3994, 4006, 4008, 4011, 4013, 4020, 4021, 4024, 4025, 4027, 4029, 4037, 4052, 4055, 4056, 4057, 4058, 4060, 4062, 4067, 4069, 4070, 4073, 4078, 4090, 4098, 4099, 4101, 4103, 4104, 4108, 4109, 4111, 4114, 4116, 4120, 4121, 4122, 4125, 4128, 4129, 4136, 4137, 4149, 4150, 4157, 4159, 4161, 4164, 4166, 4169, 4170, 4174, 4176, 4186, 4195, 4200, 4202, 4207, 4213, 4214, 4222, 4226, 4229, 4230, 4231, 4236, 4237, 4238, 4240, 4243, 4246, 4254, 4264, 4271, 4272, 4276, 4279, 4282, 4289, 4297, 4300, 4302, 4303, 4304, 4307, 4313, 4327, 4328, 4330, 4331, 4334, 4336, 4339, 4340, 4341, 4342, 4343, 4348, 4349, 4350, 4352, 4355, 4358, 4359, 4364, 4370, 4377, 4381, 4393, 4401, 4402, 4406, 4408, 4413, 4422, 4427, 4429, 4430, 4438, 4439, 4440, 4444, 4446, 4447, 4448, 4450, 4458, 4459, 4461, 4462, 4463, 4465, 4469, 4477, 4479, 4481, 4484, 4486, 4503, 4504, 4508, 4509, 4513, 4515, 4516, 4523, 4530, 4533, 4537, 4539, 4545, 4548, 4550, 4551, 4552, 4560, 4561, 4574, 4577, 4579, 4586, 4598, 4599, 4605, 4614, 4621, 4625, 4629, 4633, 4634, 4642, 4645, 4646, 4652, 4656, 4661, 4662, 4666, 4669, 4680, 4681, 4682, 4688, 4689, 4690, 4695, 4697, 4699, 4701, 4707, 4711, 4713, 4714, 4715, 4718, 4730, 4732, 4734, 4743, 4748, 4752, 4753, 4758, 4759, 4761, 4765, 4771, 4774, 4776, 4777, 4778, 4795, 4798, 4799, 4801, 4803, 4809, 4812, 4813, 4814, 4816, 4818, 4820, 4821, 4823, 4825, 4829, 4832, 4834, 4835, 4836, 4837, 4842, 4843, 4845, 4848, 4849, 4854, 4855, 4856, 4860, 4864, 4866, 4872, 4874, 4877, 4884, 4886, 4889, 4895, 4896, 4901, 4913, 4914, 4917, 4919, 4920, 4924, 4930, 4934, 4944, 4947, 4949, 4965, 4967, 4975, 4976, 4977, 4984, 4986, 4987, 4992, 4993, 4997, 4998, 5003, 5004, 5016, 5019, 5023, 5024, 5026, 5030, 5034, 5035, 5040, 5041, 5048, 5054, 5055, 5057, 5063, 5064, 5071, 5075, 5080, 5081, 5082, 5084, 5086, 5090, 5094, 5096, 5099, 5105, 5108, 5111, 5114, 5115, 5117, 5120, 5122, 5127, 5130, 5131, 5136, 5137, 5138, 5140, 5149, 5150, 5156, 5169, 5170, 5172, 5174, 5178, 5190, 5195, 5205, 5207, 5209, 5216, 5217, 5220, 5222, 5231, 5232, 5234, 5235, 5236, 5242, 5244, 5247, 5250, 5257, 5258, 5259, 5260, 5264, 5265, 5268, 5274, 5290, 5301, 5302, 5303, 5307, 5310, 5311, 5315, 5319, 5321, 5322, 5325, 5328, 5332, 5340, 5342, 5346, 5348, 5354, 5356, 5357, 5358, 5363, 5373, 5378, 5388, 5391, 5392, 5404, 5407, 5410, 5411, 5415, 5417, 5418, 5422, 5424, 5429, 5437, 5439, 5442, 5444, 5453, 5460, 5472, 5485, 5486, 5488, 5540, 5544, 5555, 5559, 5562, 5571, 5577, 5587, 5597, 5599, 5601, 5604, 5613, 5615, 5637, 5641, 5655, 5658, 5659, 5662, 5667, 5690, 5691, 5695, 5703, 5709, 5713, 5718, 5722, 5725, 5739, 5740, 5745, 5746, 5756, 5779, 5787, 5790, 5803, 5806, 5809, 5812, 5813, 5814, 5835, 5849, 5861, 5871, 5874, 5875, 5895, 5901, 5915, 5917, 5925, 5932, 5960, 5961, 5964, 5967, 5969, 5999, 6008, 6010, 6023, 6031, 6043, 6044, 6058, 6059, 6071, 6072, 6073, 6086, 6093, 6106, 6107, 6108, 6114, 6116, 6122, 6137, 6141, 6154, 6155, 6156, 6184, 6186, 6193, 6202, 6203, 6204, 6209, 6216, 6225, 6230, 6231, 6245, 6246, 6266, 6269, 6293, 6294, 6311, 6323, 6339, 6342, 6383, 6390, 6409, 6426, 6479, 6488, 6499, 6501, 6504, 6513, 6522, 6529, 6537, 6538, 6539, 6559, 6568, 6571, 6600, 6615, 6616, 6642, 6646, 6647, 6649, 6660, 6679, 6680, 6693, 6718, 6719, 6720, 6728, 6729, 6751, 6771, 6775, 6805, 6811, 6826, 6827, 6842, 6850, 6859, 6865, 6872, 6877, 6896, 6924, 6926, 6927, 6938, 6947, 6952, 6974, 6995, 6996, 7018, 7042, 7058, 7066, 7067, 7073, 7086, 7091, 7092, 7096, 7097, 7105, 7106, 7113, 7116, 7118, 7126, 7135, 7143, 7148, 7152, 7155, 7171, 7173, 7185, 7187, 7192, 7193, 7196, 7197, 7202, 7213, 7218, 7224, 7236, 7244, 7246, 7255, 7259, 7263, 7274, 7275, 7276, 7277, 7282, 7291, 7297, 7298, 7299, 7300, 7303, 7307, 7312, 7315, 7321, 7325, 7329, 7332, 7333, 7339, 7340, 7341, 7342, 7344, 7354, 7362, 7381, 7402, 7418, 7468, 7489, 7490, 7524, 7579, 7580, 7611, 7628, 7636, 7681, 7717, 7719, 7759, 7764, 7784, 7800, 7801, 7810, 7816, 7824, 7838, 7848, 7870, 7873, 7895, 7899, 7901, 7924, 7941, 7992, 8019, 8026, 8038, 8039, 8062, 8067, 8073, 8082, 8086, 8096, 8098, 8130, 8136, 8148, 8174, 8210, 8219, 8224, 8244, 8261, 8272, 8273, 8283, 8289, 8295, 8296, 8300, 8316, 8318, 8335, 8350, 8354, 8359, 8400, 8412, 8425, 8440, 8461, 8464, 8469, 8491, 8499, 8500, 8502, 8507, 8545, 8552, 8553, 8556, 8564, 8571, 8573, 8576, 8600, 8609, 8617, 8626, 8627, 8637, 8640, 8647, 8652, 8662, 8668, 8680, 8682, 8684, 8700, 8705, 8706, 8708, 8730, 8734, 8737, 8744, 8746, 8747, 8769, 8779, 8780, 8781, 8794, 8798, 8801, 8826, 8827, 8836, 8845, 8851, 8853, 8869, 8871, 8873, 8880, 8892, 8894, 8899, 8906, 8908, 8912, 8913, 8916, 8917, 8926, 8956, 8957, 9020, 9039, 9132, 9174, 9179, 9205, 9234, 9263, 9319, 9331, 9338, 9371, 9405, 9458, 9500, 9507, 9556, 9573, 9574, 9577, 9696, 9701, 9712, 9840, 9857, 9904, 9905, 9972, 9975, 9990, 10003, 10062, 10087, 10111, 10116, 10128, 10167, 10238, 10278, 10289, 10302, 10303, 10305, 10455, 10482, 10525, 10531, 10541, 10555, 10566, 10570, 10599, 10600, 10606, 10613, 10621, 10639, 10640, 10671, 10727, 10733, 10751, 10756, 10761, 10763, 10769, 10795, 10818, 10827, 10834, 10853, 10863, 10865, 10870, 10884, 10903, 10915, 10924, 10928, 10932, 10935, 10940, 10941, 10959, 10960, 10970, 10987, 10994, 11004, 11007, 11045, 11052, 11053, 11056, 11059, 11069, 11085, 11086, 11109, 11119, 11124, 11141, 11143, 11146, 11150, 11153, 11172, 11178, 11185, 11207, 11219, 11220, 11244, 11246, 11252, 11267, 11271, 11272, 11286, 11293, 11305, 11308, 11310, 11318, 11319, 11324, 11332, 11335, 11344, 11352, 11357, 11365, 11393, 11410, 11424, 11447, 11463, 11469, 11479, 11483, 11489, 11511, 11516, 11528, 11536, 11549, 11570, 11575, 11587, 11601, 11617, 11624, 11681, 11699, 11722, 11727, 11754, 11760, 11763, 11765, 11775, 11802, 11807, 11816, 11817, 11822, 11832, 11861, 11872, 11878, 11906, 11916, 11943, 11983, 11988, 12015, 12026, 12096, 12112, 12126, 12283, 12286, 12293, 12420, 12464, 12465, 12484, 12487, 12548, 12549, 12560, 12609, 12610, 12628, 12719, 12720, 12762, 12766, 12777, 12785, 12815, 12816, 12818, 12836, 12860, 12885, 12887, 12911, 12919, 12935, 12952, 12953, 12957, 12958, 12965, 12971, 12984, 12992, 12998, 13013, 13045, 13047, 13048, 13060, 13224, 13242, 13338, 13417, 13420, 13479, 13553, 13764, 13782, 13901, 13946, 13991, 14057, 14261, 14399, 14432, 14434, 14530, 14531, 14535, 14546, 14549, 14556, 14558, 14566, 14568, 14573, 14576, 14577, 14583, 14608, 14609, 14633, 14640, 14641, 14651, 14657, 14679, 14696, 14703, 14704, 14705, 14724, 14737, 14853, 14920, 14991, 15010, 15016, 15036, 15043, 15044, 15062, 15089, 15112, 15116, 15169, 15173, 15187, 15222, 15268, 15286, 15289, 15291, 15315, 15340, 15349, 15351, 15353, 15385, 15692, 15716, 15730, 15770, 15828, 15862, 15906, 15944, 15994, 16052, 16120, 16142, 16153, 16162, 16186, 16240, 16247, 16249, 16293, 16294, 16314, 16315, 16316, 16319, 16337, 16349, 16378, 16401, 16499, 16520, 16525, 16526, 16602, 16609, 16616, 16687, 16705, 16858, 16875, 16890, 16936, 16972, 17000, 17117, 17166, 17210, 17211, 17228, 17259, 17281, 17345, 17352, 17356, 17363, 17388, 17483, 17498, 17531, 17532, 17641, 17665, 17684, 17685, 17715, 17840, 17848, 18028, 18142, 18246, 18305, 18384, 18417, 18423, 18430, 18476, 18488, 18595, 18615, 18631, 18635, 18690, 18691, 18704, 18734, 18739, 18746, 18748, 18926, 18935, 18970, 19029, 19058, 19192, 19196, 19300, 19345, 19369, 19382, 19454, 19467, 19505, 19595, 19611, 19618, 19629, 19651, 19683, 19700, 19703, 19720, 19759, 19774, 19824, 19825, 19862, 19896, 19976, 19977, 19978, 19985, 19996, 19998, 20012, 20013, 20042, 20079, 20084, 20086, 20109, 20199, 20221, 20227, 20229, 20232, 20242, 20245, 20246, 20247, 20256, 20265, 20269, 20270, 20271, 20272, 20290, 20295, 20307, 20310, 20312, 20316, 20329, 20331, 20333, 20335, 20343, 20362, 20366, 20381, 20395, 20400, 20406, 20430, 20431, 20433, 20437, 20443, 20452, 20457, 20463, 20465, 20467, 20468, 20486, 20494, 20509, 20510, 20512, 20514, 20521, 20527, 20545, 20547, 20548, 20551, 20564, 20566, 20570, 20573, 20586, 20590, 20601, 20605, 20620, 20643, 20652, 20655, 20656, 20657, 20660, 20664, 20665, 20666, 20668, 20670, 20673, 20674, 20682, 20687, 20688, 20693, 20696, 20697, 20699, 20700, 20701, 20703, 20704, 20705, 20707, 20711, 20713, 20715, 20717, 20719, 20720, 20721, 20722, 20723, 20724, 20728, 20729, 20731, 20734, 20735, 20737, 20738, 20739, 20743, 20757, 20758, 20765, 20767, 20768, 20769, 20773, 20774, 20775, 20776, 20779, 20783, 20785, 20789, 20790, 20795, 20803, 20806, 20807, 20809, 20810, 20812, 20815, 20822, 20823, 20824, 20826, 20827, 20830, 20831, 20835, 20837, 20838, 20840, 20844, 20848, 20851, 20852, 20854, 20857, 20858, 20861, 20862, 20867, 20870, 20875, 20879, 20880, 20884, 20886, 20888, 20893, 20899, 20903, 20904, 20906, 20909, 20912, 20917, 20920, 20923, 20924, 20926, 20928, 20929, 20930, 20931, 20932, 20934, 20944, 20951, 20952, 20960, 20961, 20963, 20967, 20968, 20969, 20971, 20992, 20994, 21002, 21007, 21008, 21029, 21052, 21069, 21071, 21079, 21085, 21095, 21097, 21114, 21120, 21128, 21134, 21149, 21165, 21176, 21183, 21184, 21196, 21211, 21221, 21227, 21237, 21287, 21288, 21289, 21294, 21300, 21305, 21310, 21317, 21324, 21350, 21364, 21387, 21396, 21415, 21418, 21422, 21457, 21472, 21550, 21578, 21597, 21608, 21633, 21642, 21655, 21672, 21688, 21696, 21709, 21712, 21741, 21772, 21791, 21810, 21883, 21933, 22099, 22239, 22266, 22331, 22434, 22506, 22518, 22634, 22669, 22717, 22914, 22935, 22974, 23176, 23234, 23308, 23393, 23394, 23395, 23399, 23400, 23411, 23416, 23455, 23480, 23521, 23530, 23531, 23547, 23566, 23576, 23588, 23597, 23601, 23603, 23620, 23633, 23652, 23658, 23667, 23678, 23707, 23716, 23720, 23740, 23765, 23781, 23785, 23786, 23813, 23842, 23852, 23854, 23857, 23879, 23881, 23890, 23920, 23928, 23966, 24012, 24035, 24048, 24063, 24064, 24085, 24098, 24120, 24166, 24178, 24194, 24225, 24234, 24235, 24237, 24279, 24292, 24306, 24307, 24309, 24312, 24314, 24328, 24338, 24347, 24353, 24359, 24360, 24364, 24365, 24376, 24381, 24383, 24401, 24402, 24409, 24418, 24437, 24439, 24461, 24468, 24471, 24506, 24518, 24534, 24543, 24547, 24555, 24575, 24580, 24591, 24617, 24642, 24661, 24663, 24668, 24679, 24717, 24724, 24750, 24753, 24754, 24762, 24787, 24803, 24805, 24815, 24868, 24876, 24882, 24886, 24905, 24986, 24987, 24990, 24994, 24998, 24999, 25022, 25026, 25087, 25101, 25168, 25175, 25205, 25237, 25248, 25251, 25253, 25271, 25284, 25302, 25312, 25328, 25346, 25400, 25411, 25458, 25474, 25479, 25501, 25515, 25588, 25600, 25610, 25644, 25653, 25679, 25681, 25687, 25692, 25694, 25708, 25725, 25735, 25877, 25912, 25916, 25985, 26050, 26080, 26084, 26170, 26258, 26284, 26296, 26418, 26537, 26549, 26657, 26659, 26697, 26775, 26783, 27001, 27034, 27093, 27131, 27149, 27161, 27166, 27194, 27241, 27250, 27264, 27288, 27329, 27375, 27520, 27533, 27534, 27565, 27597, 27607, 27608, 27715, 27724, 27728, 27732, 27739, 27743, 27748, 27749, 27752, 27754, 27763, 27775, 27781, 27794, 27798, 27813, 27824, 27826, 27836, 27840, 27843, 27844, 27846, 27857, 27859, 27862, 27864, 27870, 27878, 27883, 27891, 27899, 27903, 27904, 27910, 27919, 27920, 27922, 27927, 27929, 27932, 27935, 27936, 27940, 27943, 27946, 27949, 27950, 27958, 27959, 27964, 27968, 27970, 27975, 27978, 27985, 27987, 27989, 27991, 27994, 28001, 28012, 28019, 28029, 28032, 28033, 28034, 28036, 28037, 28038, 28044, 28047, 28049, 28050, 28060, 28064, 28069, 28083, 28092, 28096, 28097, 28098, 28105, 28106, 28123, 28126, 28133, 28137, 28139, 28152, 28157, 28162, 28164, 28168, 28169, 28174, 28179, 28187, 28192, 28206, 28212, 28217, 28223, 28229, 28234, 28235, 28236, 28237, 28242, 28247, 28258, 28264, 28275, 28279, 28281, 28283, 28284, 28285, 28289, 28292, 28299, 28301, 28302, 28309, 28319, 28320, 28321, 28327, 28332, 28333, 28335, 28342, 28346, 28349, 28354, 28363, 28369, 28378, 28381, 28383, 28384, 28385, 28386, 28388, 28389, 28392, 28397, 28398, 28402, 28403, 28405, 28409, 28411, 28423, 28425, 28431, 28432, 28434, 28443, 28446, 28461, 28464, 28481, 28487, 28488, 28492, 28497, 28501, 28504, 28505, 28515, 28529, 28532, 28534, 28535, 28536, 28538, 28543, 28545, 28557, 28561, 28566, 28567, 28569, 28572, 28577, 28587, 28593, 28596, 28598, 28599, 28611, 28612, 28615, 28631, 28633, 28649, 28650, 28654, 28665, 28669, 28678, 28679, 28681, 28686, 28688, 28693, 28697, 28703, 28707, 28709, 28711, 28716, 28720, 28726, 28733, 28734, 28739, 28742, 28750, 28759, 28761, 28766, 28783, 28789, 28792, 28794, 28797, 28802, 28810, 28823, 28830, 28832, 28845, 28848, 28851, 28855, 28861, 28863, 28864, 28888, 28900, 28903, 28904, 28917, 28920, 28922, 28926, 28929, 28930, 28935, 28936, 28937, 28941, 28945, 28961, 28975, 28986, 28987, 28990, 28999, 29003, 29006, 29008, 29009, 29021, 29025, 29028, 29032, 29034, 29037, 29050, 29064, 29067, 29068, 29072, 29077, 29079, 29081, 29089, 29091, 29099, 29103, 29106, 29109, 29113, 29115, 29117, 29119, 29125, 29126, 29133, 29140, 29142, 29143, 29151, 29154, 29156, 29158, 29161, 29166, 29167, 29170, 29185, 29195, 29197, 29213, 29214, 29226, 29227, 29237, 29240, 29241, 29249, 29257, 29260, 29267, 29268, 29271, 29272, 29283, 29299, 29303, 29309, 29311, 29313, 29315, 29316, 29317, 29321, 29322, 29327, 29331, 29335, 29341, 29346, 29347, 29349, 29351, 29353, 29357, 29365, 29367, 29368, 29374, 29377, 29381, 29382, 29394, 29395, 29402, 29404, 29407, 29410, 29411, 29422, 29429, 29430, 29432, 29442, 29448, 29449, 29455, 29462, 29464, 29470, 29472, 29477, 29484, 29485, 29494, 29506, 29512, 29514, 29518, 29523, 29526, 29528, 29529, 29530, 29532, 29536, 29544, 29548, 29557, 29562, 29582, 29585, 29587, 29588, 29590, 29596, 29598, 29599, 29610, 29619, 29625, 29632, 29633, 29636, 29637, 29647, 29654, 29660, 29664, 29666, 29667, 29688, 29692, 29693, 29696, 29704, 29706, 29711, 29714, 29715, 29718, 29722, 29723, 29724, 29726, 29740, 29743, 29745, 29749, 29754, 29772, 29774, 29778, 29797, 29802, 29804, 29812, 29817, 29823, 29824, 29838, 29850, 29857, 29864, 29867, 29870, 29873, 29881, 29888, 29892, 29895, 29909, 29922, 29926, 29927, 29928, 29936, 29941, 29945, 29950, 29953, 29957, 29964, 29965, 29968, 29974, 29975, 29977, 29980, 29987, 29998, 30002, 30009, 30012, 30015, 30017, 30021, 30022, 30029, 30034, 30040, 30041, 30049, 30051, 30054, 30055, 30056, 30058, 30076, 30081, 30086, 30087, 30092, 30093, 30094, 30100, 30101, 30110, 30111, 30117, 30118, 30122, 30147, 30149, 30159, 30167, 30169, 30172, 30173, 30174, 30190, 30195, 30203, 30212, 30219, 30225, 30227, 30236, 30238, 30242, 30245, 30264, 30268, 30270, 30272, 30273, 30277, 30288, 30289, 30290, 30291, 30292, 30296, 30298, 30315, 30317, 30320, 30322, 30332, 30339, 30349, 30355, 30357, 30365, 30368, 30377, 30378, 30389, 30393, 30398, 30399, 30405, 30406, 30412, 30417, 30419, 30420, 30424, 30433, 30437, 30440, 30449, 30453, 30454, 30462, 30481, 30498, 30506, 30522, 30531, 30563, 30632, 30646, 30722, 30730, 30744, 30745, 30773, 30780, 30791, 30916, 30956, 30964, 31032, 31145, 31204, 31257, 31299, 31350, 31409, 31410, 31411, 31418, 31499, 31514, 31541, 31602, 31614, 31684, 31711, 31712, 31715, 31718, 31728, 31782, 31797, 31820, 31826, 31854, 31878, 31889, 31907, 31922, 31955, 31970, 31990, 32020, 32049, 32058, 32059, 32068, 32084, 32104, 32107, 32126, 32136, 32157, 32167, 32188, 32193, 32229, 32230, 32232, 32240, 32254, 32257, 32266, 32273, 32282, 32288, 32296, 32306, 32317, 32494, 32519, 32585, 32617, 32729, 32764, 33129, 33183, 33242, 33243, 33254, 33263, 33270, 33271, 33277, 33280, 33284, 33291, 33295, 33300, 33304, 33314, 33316, 33329, 33332, 33333, 33335, 33351, 33356, 33369, 33373, 33375, 33377, 33378, 33379, 33380, 33382, 33383, 33384, 33396, 33411, 33419, 33426, 33429, 33430, 33434, 33438, 33441, 33448, 33449, 33462, 33464, 33466, 33469, 33481, 33486, 33488, 33492, 33497, 33500, 33502, 33507, 33509, 33510, 33512, 33513, 33514, 33517, 33519, 33525, 33530, 33531, 33534, 33543, 33553, 33554, 33555, 33650, 33678, 33695, 33818, 33827, 33888, 33939, 33941, 34004, 34073, 34094, 34142, 34151, 34257, 34263, 34368, 34396, 34416, 34606, 34619, 34654, 34678, 34682, 34771, 34865, 34969, 35058, 35060, 35066, 35068, 35075, 35093, 35107, 35115, 35116, 35125, 35134, 35142, 35145, 35159, 35160, 35168, 35171, 35176, 35179, 35184, 35189, 35193, 35203, 35210, 35212, 35214, 35218, 35229, 35231, 35238, 35239, 35240, 35249, 35250, 35253, 35254, 35255, 35256, 35257, 35260, 35265, 35273, 35276, 35277, 35284, 35285, 35289, 35297, 35302, 35308, 35311, 35321, 35324, 35327, 35333, 35336, 35337, 35339, 35340, 35345, 35347, 35352, 35364, 35365, 35379, 35388, 35397, 35409, 35412, 35414, 35421, 35427, 35435, 35438, 35440, 35442, 35444, 35456, 35465, 35482, 35484, 35499, 35503, 35515, 35520, 35524, 35525, 35531, 35539, 35553, 35559, 35562, 35565, 35570, 35579, 35580, 35584, 35585, 35586, 35595, 35603, 35604, 35607, 35612, 35614, 35649, 35655, 35661, 35663, 35666, 35671, 35672, 35673, 35681, 35692, 35699, 35700, 35705, 35706, 35708, 35712, 35716, 35724, 35726, 35728, 35732, 35738, 35742, 35745, 35748, 35751, 35757, 35777, 35779, 35780, 35781, 35782, 35785, 35793, 35795, 35800, 35801, 35806, 35807, 35816, 35817, 35819, 35825, 35828, 35831, 35838, 35844, 35845, 35849, 35862, 35874, 35875, 35878, 35890, 35897, 35898, 35900, 35919, 35921, 35932, 35933, 35944, 35948, 35950, 35951, 35955, 35958, 35960, 35965, 35994, 35998, 36000, 36022, 36023, 36026, 36030, 36036, 36048, 36052, 36053, 36056, 36059, 36067, 36068, 36072, 36084, 36085, 36088, 36089, 36094, 36095, 36097, 36099, 36102, 36107, 36111, 36112, 36113, 36117, 36120, 36123, 36125, 36126, 36129, 36131, 36134, 36136, 36138, 36144, 36145, 36154, 36155, 36156, 36157, 36158, 36161, 36163, 36165, 36169, 36170, 36175, 36188, 36194, 36200, 36205, 36211, 36212, 36224, 36227, 36229, 36231, 36232, 36233, 36235, 36240, 36249, 36250, 36254, 36257, 36268, 36271, 36272, 36283, 36286, 36289, 36292, 36306, 36309, 36312, 36316, 36317, 36319, 36322, 36323, 36324, 36335, 36336, 36343, 36346, 36348, 36351, 36352, 36357, 36360, 36363, 36365, 36371, 36377, 36380, 36389, 36397, 36404, 36421, 36427, 36428, 36429, 36445, 36446, 36450, 36456, 36462, 36464, 36478, 36480, 36481, 36485, 36488, 36489, 36498, 36501, 36507, 36508, 36509, 36510, 36513, 36519, 36521, 36528, 36529, 36533, 36537, 36548, 36550, 36551, 36553, 36554, 36561, 36562, 36566, 36568, 36569, 36570, 36574, 36578, 36581, 36584, 36585, 36586, 36590, 36592, 36593, 36598, 36603, 36611, 36618, 36622, 36627, 36628, 36631, 36632, 36633, 36634, 36638, 36639, 36642, 36644, 36645, 36647, 36650, 36651, 36656, 36658, 36660, 36668, 36670, 36681, 36684, 36687, 36688, 36691, 36692, 36703, 36711, 36714, 36716, 36718, 36724, 36730, 36744, 36750, 36751, 36753, 36755, 36760, 36764, 36768, 36769, 36778, 36779, 36784, 36786, 36788, 36816, 36819, 36825, 36826, 36827, 36829, 36833, 36835, 36840, 36841, 36846, 36847, 36849, 36851, 36857, 36865, 36874, 36876, 36877, 36882, 36883, 36885, 36893, 36894, 36909, 36910, 36918, 36920, 36925, 36928, 36930, 36932, 36933, 36941, 36948, 36951, 36955, 36960, 36965, 36977, 36978, 36982, 36983, 36988, 36990, 36996, 36999, 37003, 37010, 37012, 37017, 37025, 37026, 37029, 37032, 37037, 37050, 37052, 37058, 37064, 37066, 37068, 37069, 37076, 37077, 37081, 37083, 37093, 37094, 37096, 37097, 37099, 37101, 37115, 37124, 37128, 37133, 37136, 37144, 37153, 37159, 37160, 37161, 37166, 37169, 37173, 37174, 37184, 37185, 37187, 37188, 37191, 37195, 37197, 37198, 37201, 37202, 37204, 37205, 37208, 37209, 37210, 37215, 37216, 37220, 37226, 37227, 37230, 37232, 37236, 37242, 37246, 37250, 37255, 37256, 37274, 37275, 37284, 37294, 37296, 37298, 37299, 37305, 37313, 37314, 37315, 37319, 37320, 37322, 37328, 37330, 37331, 37332, 37335, 37337, 37341, 37348, 37349, 37351, 37354, 37359, 37361, 37362, 37371, 37379, 37384, 37392, 37393, 37403, 37408, 37411, 37416, 37418, 37429, 37431, 37436, 37438, 37443, 37450, 37451, 37452, 37453, 37458, 37461, 37464, 37465, 37469, 37471, 37472, 37473, 37477, 37481, 37484, 37485, 37486, 37491, 37492, 37494, 37497, 37499, 37506, 37511, 37516, 37522, 37524, 37526, 37527, 37531, 37533, 37534, 37537, 37546, 37548, 37549, 37550, 37551, 37553, 37554, 37557, 37558, 37559, 37579, 37586, 37589, 37597, 37598, 37603, 37610, 37611, 37612, 37617, 37622, 37627, 37629, 37631, 37635, 37637, 37638, 37639, 37640, 37641, 37642, 37644, 37653, 37654, 37661, 37662, 37669, 37673, 37675, 37678, 37682, 37688, 37694, 37698, 37699, 37700, 37712, 37718, 37721, 37726, 37727, 37728, 37735, 37738, 37747, 37750, 37751, 37753, 37755, 37756, 37762, 37766, 37773, 37779, 37780, 37781, 37782, 37784, 37789, 37792, 37797, 37800, 37804, 37805, 37807, 37812, 37813, 37815, 37818, 37821, 37822, 37834, 37836, 37837, 37839, 37840, 37841, 37842, 37848, 37851, 37852, 37853, 37854, 37856, 37864, 37865, 37867, 37868, 37870, 37873, 37877, 37893, 37897, 37898, 37904, 37906, 37907, 37910, 37911, 37917, 37919, 37920, 37921, 37925, 37942, 37946, 37947, 37950, 37952, 37961, 37962, 37975, 37976, 37982, 37983, 37984, 37987, 37989, 37991, 37995, 37996, 37997, 37998, 38000, 38002, 38005, 38008, 38011, 38015, 38016, 38017, 38018, 38023, 38024, 38035, 38038, 38040, 38046, 38047, 38053, 38054, 38056, 38058, 38063, 38066, 38072, 38079, 38085, 38089, 38096, 38099, 38101, 38108, 38110, 38111, 38113, 38118, 38123, 38125, 38136, 38138, 38139, 38147, 38154, 38159, 38162, 38167, 38172, 38173, 38183, 38185, 38186, 38191, 38192, 38202, 38204, 38205, 38209, 38210, 38213, 38218, 38219, 38221, 38224, 38226, 38233, 38235, 38237, 38253, 38254, 38255, 38258, 38259, 38260, 38266, 38269, 38273, 38280, 38282, 38284, 38295, 38296, 38298, 38299, 38312, 38320, 38325, 38328, 38330, 38331, 38333, 38336, 38338, 38346, 38353, 38355, 38375, 38386, 38391, 38392, 38393, 38395, 38399, 38405, 38411, 38412, 38416, 38417, 38418, 38420, 38421, 38426, 38431, 38434, 38436, 38441, 38443, 38444, 38453, 38455, 38462, 38463, 38468, 38477, 38478, 38485, 38486, 38487, 38488, 38494, 38503, 38506, 38508, 38509, 38510, 38511, 38514, 38519, 38520, 38524, 38525, 38527, 38528, 38535, 38536, 38544, 38549, 38554, 38556, 38565, 38570, 38573, 38575, 38579, 38583, 38584, 38594, 38595, 38596, 38597, 38599, 38601, 38608, 38611, 38613, 38616, 38624, 38625, 38627, 38628, 38634, 38635, 38643, 38646, 38647, 38648, 38651, 38659, 38672, 38673, 38675, 38684, 38688, 38689, 38696, 38699, 38700, 38704, 38709, 38710, 38715, 38716, 38721, 38722, 38724, 38725, 38742, 38750, 38751, 38752, 38756, 38757, 38762, 38768, 38778, 38780, 38784, 38785, 38786, 38787, 38788, 38790, 38792, 38794, 38800, 38804, 38808, 38810, 38811, 38816, 38818, 38819, 38820, 38825, 38827, 38829, 38834, 38837, 38839, 38840, 38851, 38853, 38859, 38870, 38871, 38873, 38876, 38878, 38884, 38885, 38888, 38895, 38896, 38899, 38905, 38906, 38907, 38915, 38922, 38925, 38926, 38930, 38931, 38941, 38950, 38952, 38953, 38955, 38965, 38966, 38968, 38970, 38976, 38977, 38978, 38980, 38982, 38987, 38990, 38991, 38997, 39000, 39010, 39011, 39013, 39016, 39018, 39039, 39053, 39056, 39065, 39071, 39076, 39081, 39085, 39094, 39101, 39114, 39119, 39132, 39135, 39147, 39148, 39149, 39151, 39162, 39164, 39167, 39185, 39186, 39188, 39198, 39199, 39208, 39211, 39212, 39214, 39215, 39220, 39251, 39254, 39266, 39277, 39281, 39282, 39287, 39304, 39329, 39332, 39334, 39341, 39355, 39365, 39366, 39371, 39374, 39385, 39417, 39431, 39438, 39440, 39447, 39448, 39449, 39459, 39471, 39477, 39483, 39485, 39488, 39489, 39495, 39497, 39511, 39514, 39521, 39524, 39529, 39533, 39535, 39547, 39558, 39568, 39578, 39582, 39583, 39590, 39613, 39616, 39624, 39635, 39638, 39644, 39689, 39691, 39699, 39702, 39703, 39708, 39715, 39720, 39723, 39740, 39743, 39746, 39760, 39782, 39792, 39797, 39809, 39841, 39879, 39895, 39934, 40002, 40008, 40014, 40023, 40024, 40031, 40039, 40046, 40050, 40051, 40059, 40060, 40068, 40073, 40081, 40106, 40133, 40144, 40153, 40155, 40160, 40163, 40168, 40182, 40184, 40188, 40193, 40212, 40215, 40231, 40232, 40247, 40249, 40252, 40268, 40270, 40278, 40286, 40305, 40327, 40334, 40335, 40345, 40353, 40354, 40355, 40357, 40378, 40381, 40400, 40401, 40407, 40420, 40430, 40448, 40460, 40461, 40462, 40468, 40479, 40484, 40485, 40506, 40520, 40522, 40536, 40589, 40601, 40622, 40626, 40627, 40629, 40647, 40656, 40665, 40712, 40736, 40745, 40749, 40761, 40765, 40784, 40790, 40792, 40794, 40804, 40813, 40820, 40832, 40834, 40852, 40854, 40856, 40857, 40874, 40885, 40890, 40921, 40934, 40935, 40936, 40957, 40958, 40959, 40960, 40962, 40974, 40976, 40992, 41003, 41010, 41038, 41043, 41049, 41057, 41085, 41089, 41096, 41100, 41101, 41110, 41118, 41119, 41162, 41183, 41201, 41207, 41213, 41220, 41227, 41273, 41277, 41287, 41302, 41307, 41308, 41309, 41314, 41325, 41329, 41330, 41333, 41334, 41336, 41340, 41347, 41350, 41351, 41353, 41357, 41361, 41369, 41379, 41380, 41400, 41401, 41415, 41427, 41429, 41466, 41469, 41475, 41511, 41516, 41529, 41530, 41531, 41538, 41547, 41557, 41561, 41569, 41588, 41593, 41609, 41610, 41616, 41621, 41632, 41643, 41644, 41648, 41661, 41675, 41713, 41718, 41738, 41747, 41748, 41755, 41759, 41776, 41779, 41783, 41786, 41815, 41827, 41839, 41846, 41861, 41863, 41869, 41881, 41895, 41910, 41911, 41914, 41915, 41917, 41930, 41935, 41955, 41961, 41977, 41989, 41998, 42000, 42001, 42006, 42040, 42045, 42048, 42055, 42056, 42065, 42070, 42076, 42078, 42105, 42107, 42124, 42133, 42140, 42159, 42160, 42161, 42165, 42186, 42187, 42194, 42208, 42212, 42213, 42215, 42216, 42217, 42229, 42241, 42252, 42260, 42273, 42277, 42279, 42289, 42293, 42296, 42330, 42331, 42334, 42344, 42345, 42377, 42439, 42476, 42503, 42509, 42528, 42531, 42533, 42534, 42589, 42590, 42593, 42597, 42644, 42726, 42809, 42833, 42909, 42912, 42914, 42960, 42974, 42996, 43009, 43032, 43047, 43077, 43092, 43153, 43163, 43193, 43221, 43223, 43300, 43310, 43420, 43431, 43476, 43482, 43499, 43514, 43577, 43650, 43653, 43656, 43703, 43808, 43861, 43950, 43956, 43984, 44012, 44051, 44093, 44099, 44133, 44158, 44243, 44258, 44264, 44265, 44307, 44314, 44325, 44332, 44340, 44363, 44368, 44369, 44380, 44388, 44400, 44406, 44410, 44424, 44434, 44457, 44463, 44464, 44477, 44478, 44502, 44526, 44534, 44551, 44567, 44586, 44594, 44619, 44628, 44641, 44657, 44665, 44666, 44681, 44684, 44686, 44689, 44693, 44696, 44716, 44718, 44728, 44742, 44768, 44774, 44792, 44833, 44838, 44840, 44841, 44852, 44854, 44864, 44871, 44879, 44899, 44900, 44915, 44944, 44945, 44960, 44982, 44985, 44995, 45022, 45091, 45114, 45117, 45125, 45130, 45142, 45153, 45172, 45178, 45182, 45192, 45193, 45205, 45207, 45210, 45218, 45244, 45252, 45260, 45268, 45271, 45273, 45284, 45293, 45308, 45334, 45351, 45393, 45396, 45476, 45523, 45534, 45550, 45553, 45558, 45576, 45578, 45634, 45835, 45836, 45844, 45907, 45911, 45926, 45991, 46010, 46015, 46031, 46039, 46081, 46086, 46143, 46151, 46175, 46214, 46220, 46237, 46243, 46256, 46271, 46282, 46292, 46308, 46324, 46338, 46359, 46384, 46420, 46432, 46435, 46444, 46459, 46461, 46478, 46684, 46739, 46855, 47014, 47093, 47173, 47339, 47363, 47373, 47436, 47542, 47543, 47615, 47673, 47679, 47715, 47746, 47758, 47759, 47802, 47897, 47924, 47983, 47993, 47994, 47999, 48001, 48011, 48012, 48013, 48016, 48020, 48023, 48025, 48027, 48054, 48070, 48083, 48099, 48106, 48110, 48111, 48112, 48114, 48131, 48135, 48146, 48152, 48154, 48155, 48158, 48170, 48172, 48179, 48188, 48190, 48192, 48197, 48240, 48295, 48299, 48304, 48334, 48509, 48676, 48687, 48723, 48730, 48761, 48800, 48862, 48926, 48927, 49041, 49061, 49102, 49114, 49205, 49241, 49243, 49524, 49544, 49551, 49552, 49631, 49639, 49718, 49792, 49865, 49875, 49883, 49884, 49926, 49938, 49940, 49962, 50032, 50040, 50096, 50102, 50197, 50199, 50262, 50304, 50332, 50345, 50346, 50404, 50405, 50432, 50484, 50517, 50769, 50777, 50924, 50983, 51013, 51067, 51072, 51110, 51114, 51158, 51170, 51232, 51233, 51242, 51399, 51488, 51504, 51636, 51643, 51658, 51779, 51822, 51875, 51969, 52001, 52022, 52035, 52037, 52040, 52079, 52092, 52107, 52134, 52209, 52210, 52291, 52304, 52492, 52530, 52543, 52602, 52678, 52777, 52786, 52787, 52790, 52822, 52978, 52979, 53011, 53014, 53075, 53195, 53214, 53233, 53234, 53247, 53250, 53277, 53300, 53304, 53319, 53347, 53361, 53401, 53426, 53459, 53464, 53479, 53494, 53495, 53510, 53512, 53539, 53680, 53681, 53682, 53686, 53698, 53700, 53735, 53742, 53744, 53754, 53766, 53780, 53789, 53810, 53811, 53815, 53822, 53827, 53853, 53868, 53885, 53898, 53927, 53933, 53941, 53944, 53965, 53985, 53987, 53994, 53995, 54004, 54006, 54014, 54015, 54026, 54069, 54071, 54076, 54095, 54098, 54103, 54107, 54114, 54117, 54120, 54121, 54122, 54124, 54133, 54141, 54145, 54146, 54161, 54162, 54176, 54187, 54188, 54196, 54198, 54199, 54201, 54205, 54206, 54207, 54208, 54209, 54211, 54212, 54217, 54218, 54219, 54225, 54229, 54232, 54233, 54235, 54237, 54239, 54250, 54257, 54258, 54263, 54264, 54273, 54275, 54281, 54283, 54284, 54285, 54286, 54287, 54292, 54293, 54295, 54296, 54303, 54306, 54307, 54308, 54311, 54312, 54314, 54315, 54316, 54317, 54318, 54320, 54328, 54329, 54331, 54334, 54339, 54344, 54348, 54350, 54353, 54354, 54356, 54358, 54361, 54367, 54368, 54371, 54378, 54381, 54383, 54384, 54390, 54394, 54396, 54402, 54409, 54410, 54411, 54413, 54414, 54415, 54416, 54417, 54419, 54421, 54428, 54429, 54435, 54436, 54440, 54441, 54442, 54444, 54447, 54448, 54449, 54459, 54460, 54461, 54463, 54464, 54466, 54471, 54476, 54478, 54481, 54483, 54484, 54487, 54488, 54489, 54492, 54493, 54498, 54499, 54502, 54503, 54506, 54511, 54515, 54544, 54561, 54563, 54600, 54613, 54615, 54620, 54624, 54640, 54645, 54650, 54657, 54664, 54665, 54669, 54675, 54680, 54682, 54706, 54718, 54722, 54731, 54732, 54734, 54750, 54756, 54759, 54774, 54779, 54783, 54785, 54793, 54802, 54820, 54828, 54840, 54845, 54856, 54858, 54880, 54883, 54905, 54913, 54933, 54997, 55141, 55162, 55164, 55184, 55193, 55197, 55201, 55245, 55271, 55292, 55319, 55322, 55337, 55418, 55457, 55478, 55479, 55487, 55490, 55516, 55527, 55642, 55679, 56159, 56439, 56517, 56568, 56695, 56725, 56734, 56735, 56741, 56768, 56814, 56835, 56852, 56939, 56995, 57006, 57027, 57048, 57056, 57075, 57089, 57100, 57115, 57123, 57154, 57204, 57205, 57239, 57263, 57267, 57284, 57287, 57296, 57319, 57376, 57412, 57441, 57443, 57508, 57520, 57555, 57557, 57585, 57608, 57655, 57656, 57713, 57721, 57729, 57746, 57756, 57803, 57811, 57818, 57905, 57917, 57919, 58005, 58024, 58026, 58049, 58053, 58055, 58079, 58093, 58094, 58102, 58124, 58155, 58184, 58190, 58226, 58233, 58255, 58290, 58293, 58325, 58348, 58360, 58363, 58384, 58445, 58506, 58515, 58519, 58520, 58523, 58551, 58596, 58602, 58691, 58713, 58743, 58811, 58819, 58831, 58832, 58851, 58913, 58946, 58961, 58968, 58975, 58994, 59012, 59017, 59073, 59074, 59087, 59127, 59149, 59155, 59183, 59202, 59203, 59204, 59225, 59235, 59239, 59263, 59281, 59297, 59302, 59307, 59350, 59548, 59550, 59629, 59664, 59673, 59747, 59761, 59889, 59922, 60056, 60085, 60149, 60198, 60233, 60301, 60346, 60521, 60661, 60775, 60788, 60812, 60935, 60964, 60970, 61018, 61178, 61186, 61292, 61312, 61320, 61322, 61330, 61334, 61335, 61341, 61343, 61346, 61347, 61355, 61356, 61358, 61362, 61363, 61365, 61378, 61385, 61390, 61392, 61404, 61407, 61434, 61446, 61450, 61454, 61456, 61460, 61463, 61474, 61475, 61477, 61479, 61480, 61483, 61489, 61490, 61496, 61499, 61502, 61510, 61520, 61526, 61527, 61538, 61550, 61553, 61558, 61562, 61564, 61566, 61567, 61578, 61586, 61591, 61592, 61595, 61596, 61601, 61607, 61608, 61612, 61613, 61615, 61616, 61620, 61627, 61631, 61633, 61635, 61642, 61651, 61653, 61658, 61660, 61666, 61667, 61672, 61686, 61691, 61697, 61707, 61709, 61715, 61719, 61727, 61735, 61736, 61737, 61740, 61747, 61753, 61758, 61761, 61762, 61772, 61773, 61782, 61785, 61791, 61801, 61822, 61825, 61835, 61836, 61849, 61853, 61854, 61860, 61869, 61879, 61887, 61900, 61901, 61902, 61907, 61921, 61922, 61923, 61926, 61928, 61930, 61938, 61941, 61965, 61969, 61971, 61974, 61978, 61981, 61985, 61986, 61988, 61995, 61997, 62010, 62019, 62023, 62024, 62026, 62028, 62035, 62041, 62043, 62047, 62048, 62049, 62050, 62053, 62060, 62062, 62072, 62074, 62077, 62084, 62085, 62094, 62098, 62104, 62105, 62111, 62114, 62121, 62133, 62137, 62144, 62146, 62147, 62150, 62161, 62162, 62182, 62209, 62211, 62220, 62223, 62231, 62233, 62237, 62238, 62246, 62247, 62258, 62259, 62276, 62282, 62287, 62292, 62296, 62307, 62308, 62311, 62326, 62327, 62330, 62332, 62335, 62342, 62344, 62350, 62357, 62364, 62371, 62375, 62388, 62393, 62397, 62406, 62407, 62412, 62416, 62428, 62435, 62436, 62444, 62446, 62448, 62454, 62456, 62457, 62460, 62465, 62467, 62474, 62476, 62479, 62486, 62491, 62492, 62493, 62504, 62507, 62509, 62510, 62512, 62515, 62527, 62528, 62531, 62543, 62546, 62548, 62550, 62561, 62565, 62569, 62572, 62576, 62577, 62581, 62584, 62586, 62590, 62591, 62614, 62628, 62632, 62637, 62639, 62641, 62646, 62652, 62654, 62657, 62659, 62664, 62665, 62666, 62667, 62668, 62671, 62681, 62684, 62687, 62693, 62695, 62710, 62711, 62721, 62723, 62724, 62730, 62737, 62743, 62748, 62751, 62752, 62753, 62759, 62761, 62782, 62783, 62792, 62795, 62800, 62809, 62810, 62813, 62823, 62826, 62833, 62836, 62838, 62840, 62843, 62846, 62852, 62860, 62861, 62871, 62872, 62882, 62895, 62907, 62908, 62919, 62942, 62953, 62962, 62963, 62990, 62994, 62995, 63005, 63016, 63017, 63029, 63032, 63039, 63040, 63048, 63052, 63053, 63055, 63069, 63081, 63084, 63085, 63090, 63092, 63094, 63096, 63099, 63100, 63106, 63108, 63118, 63123, 63124, 63126, 63133, 63138, 63147, 63149, 63151, 63153, 63158, 63161, 63164, 63167, 63170, 63180, 63186, 63190, 63191, 63195, 63207, 63210, 63211, 63221, 63225, 63229, 63231, 63243, 63248, 63249, 63250, 63252, 63256, 63261, 63266, 63274, 63275, 63277, 63279, 63288, 63291, 63292, 63293, 63294, 63295, 63296, 63299, 63305, 63317, 63322, 63329, 63334, 63336, 63342, 63351, 63361, 63363, 63369, 63370, 63377, 63395, 63401, 63402, 63410, 63411, 63424, 63425, 63426, 63427, 63436, 63437, 63446, 63447, 63450, 63451, 63455, 63462, 63466, 63468, 63476, 63477, 63495, 63496, 63498, 63504, 63520, 63521, 63532, 63541, 63542, 63544, 63546, 63562, 63571, 63575, 63589, 63592, 63606, 63612, 63614, 63634, 63636, 63641, 63656, 63660, 63666, 63680, 63684, 63690, 63692, 63695, 63702, 63703, 63705, 63706, 63713, 63716, 63720, 63725, 63733, 63739, 63742, 63745, 63746, 63748, 63758, 63761, 63766, 63767, 63769, 63777, 63779, 63781, 63787, 63793, 63808, 63814, 63818, 63827, 63828, 63829, 63831, 63833, 63837, 63839, 63840, 63845, 63858, 63863, 63867, 63869, 63875, 63877, 63881, 63882, 63883, 63884, 63887, 63891, 63903, 63918, 63923, 63935, 63936, 63952, 63955, 63960, 63963, 63968, 63979, 63984, 63985, 63993, 64002, 64003, 64004, 64009, 64015, 64022, 64026, 64027, 64032, 64036, 64041, 64046, 64048, 64049, 64051, 64055, 64058, 64061, 64079, 64084, 64087, 64112, 64114, 64115, 64120, 64121, 64127, 64128, 64130, 64133, 64141, 64142, 64154, 64160, 64175, 64178, 64196, 64200, 64208, 64250, 64270, 64271, 64286, 64302, 64305, 64306, 64314, 64360, 64395, 64420, 64505, 64518, 64554, 64595, 64596, 64601, 64659, 64675, 64684, 64712, 64776, 64862, 64865, 64900, 64935, 64976, 65029, 65035, 65041, 65074, 65078, 65135, 65172, 65190, 65339, 65341, 65347, 65353, 65356, 65378, 65384, 65414, 65427, 65439, 65455, 65467, 65478, 65480, 65482, 65505, 65520, 65527, 65538, 65541, 65614, 65632, 65643, 65655, 65677, 65719, 65736, 65740, 65774, 65778, 65812, 65826, 65849, 65850, 65851, 65870, 65890, 65897, 65901, 65931, 65936, 65957, 65958, 65988, 66025, 66109, 66138, 66237, 66277, 66296, 66323, 66340, 66349, 66406, 66460, 66857, 66894, 66909, 66947, 66949, 66951, 66960, 66961, 66962, 66972, 66973, 66979, 66980, 66995, 66997, 67000, 67010, 67012, 67028, 67036, 67037, 67047, 67054, 67055, 67065, 67070, 67074, 67079, 67080, 67081, 67085, 67092, 67096, 67101, 67104, 67107, 67109, 67124, 67128, 67134, 67145, 67148, 67150, 67151, 67156, 67164, 67171, 67173, 67183, 67191, 67239, 67240, 67259, 67271, 67273, 67293, 67305, 67396, 67404, 67585, 67643, 67669, 67865, 67893, 67906, 67913, 68072, 68253, 68270, 68272, 68273, 68274, 68275, 68337, 68360, 68396, 68478, 68491, 68617, 68657, 68658, 68659, 68660, 68667, 68669, 68670, 68677, 68681, 68684, 68686, 68690, 68697, 68699, 68700, 68706, 68708, 68709, 68717, 68736, 68740, 68743, 68766, 68782, 68806, 68808, 68812, 68816, 68823, 68827, 68829, 68830, 68833, 68838, 68853, 68871, 68874, 68880, 68883, 68886, 68889, 68900, 68903, 68915, 68926, 68928, 68929, 68936, 68939, 68948, 68955, 68957, 68964, 68971, 68972, 68973, 68976, 68977, 68979, 68983, 68997, 68998, 68999, 69000, 69005, 69016, 69020, 69023, 69026, 69027, 69035, 69037, 69038, 69044, 69055, 69061, 69072, 69082, 69093, 69098, 69099, 69116, 69128, 69130, 69139, 69148, 69149, 69161, 69163, 69166, 69168, 69178, 69182, 69184, 69192, 69193, 69197, 69199, 69200, 69201, 69206, 69211, 69226, 69233, 69237, 69253, 69254, 69256, 69268, 69281, 69286, 69287, 69294, 69300, 69301, 69302, 69305, 69319, 69322, 69325, 69327, 69328, 69330, 69332, 69335, 69340, 69342, 69346, 69350, 69359, 69365, 69367, 69370, 69376, 69383, 69386, 69403, 69406, 69408, 69410, 69411, 69419, 69424, 69428, 69432, 69453, 69458, 69468, 69471, 69476, 69479, 69483, 69491, 69497, 69503, 69506, 69511, 69534, 69537, 69550, 69553, 69564, 69566, 69583, 69584, 69588, 69595, 69596, 69602, 69608, 69621, 69625, 69628, 69629, 69630, 69634, 69638, 69642, 69643, 69648, 69649, 69652, 69653, 69656, 69658, 69664, 69669, 69672, 69686, 69687, 69688, 69699, 69701, 69703, 69704, 69707, 69710, 69712, 69718, 69721, 69730, 69731, 69732, 69738, 69741, 69742, 69746, 69749, 69755, 69765, 69766, 69770, 69777, 69778, 69790, 69798, 69799, 69800, 69804, 69806, 69818, 69819, 69821, 69824, 69825, 69826, 69833, 69840, 69850, 69852, 69857, 69859, 69861, 69871, 69874, 69876, 69884, 69891, 69896, 69902, 69908, 69910, 69911, 69917, 69919, 69920, 69928, 69929, 69930, 69932, 69933, 69934, 69941, 69949, 69956, 69960, 69963, 69970, 69977, 69980, 69982, 69985, 69992, 69993, 70008, 70012, 70013, 70014, 70016, 70017, 70019, 70021, 70023, 70028, 70029, 70032, 70033, 70038, 70039, 70045, 70046, 70049, 70050, 70052, 70054, 70055, 70057, 70061, 70062, 70066, 70069, 70078, 70081, 70082, 70083, 70087, 70091, 70092, 70101, 70105, 70107, 70119, 70123, 70124, 70128, 70134, 70136, 70139, 70140, 70146, 70153, 70163, 70167, 70170, 70177, 70178, 70179, 70180, 70186, 70198, 70203, 70212, 70213, 70217, 70225, 70226, 70227, 70234, 70245, 70256, 70261, 70262, 70265, 70269, 70272, 70274, 70276, 70281, 70284, 70286, 70287, 70302, 70304, 70305, 70309, 70320, 70322, 70326, 70327, 70328, 70340, 70352, 70358, 70360, 70361, 70362, 70364, 70365, 70366, 70372, 70376, 70377, 70400, 70401, 70405, 70407, 70410, 70413, 70418, 70419, 70420, 70422, 70424, 70429, 70430, 70432, 70434, 70437, 70445, 70447, 70455, 70456, 70467, 70473, 70474, 70476, 70478, 70482, 70483, 70485, 70486, 70490, 70493, 70496, 70497, 70500, 70502, 70506, 70511, 70512, 70523, 70535, 70537, 70544, 70545, 70549, 70551, 70552, 70556, 70558, 70561, 70562, 70567, 70569, 70577, 70581, 70588, 70589, 70590, 70591, 70595, 70597, 70601, 70602, 70604, 70605, 70606, 70608, 70612, 70617, 70618, 70620, 70624, 70628, 70637, 70638, 70645, 70649, 70650, 70651, 70655, 70658, 70660, 70663, 70682, 70684, 70688, 70689, 70690, 70691, 70692, 70693, 70713, 70731, 70732, 70733, 70739, 70745, 70752, 70758, 70762, 70764, 70775, 70776, 70778, 70784, 70785, 70786, 70789, 70796, 70800, 70808, 70809, 70810, 70819, 70824, 70825, 70826, 70840, 70841, 70845, 70846, 70849, 70854, 70857, 70868, 70869, 70872, 70874, 70884, 70889, 70903, 70904, 70906, 70907, 70908, 70912, 70920, 70926, 70928, 70930, 70931, 70932, 70934, 70953, 70961, 70962, 70966, 70967, 70986, 70992, 70995, 71022, 71025, 71027, 71028, 71038, 71045, 71053, 71054, 71056, 71059, 71060, 71063, 71067, 71074, 71077, 71087, 71089, 71092, 71093, 71094, 71096, 71097, 71101, 71102, 71103, 71110, 71111, 71117, 71120, 71123, 71124, 71129, 71132, 71133, 71142, 71145, 71148, 71162, 71172, 71178, 71182, 71186, 71189, 71190, 71192, 71195, 71202, 71206, 71214, 71219, 71221, 71230, 71234, 71238, 71246, 71250, 71251, 71254, 71260, 71261, 71262, 71267, 71269, 71272, 71278, 71282, 71285, 71286, 71287, 71292, 71295, 71304, 71311, 71314, 71316, 71319, 71329, 71331, 71337, 71346, 71348, 71352, 71354, 71355, 71358, 71359, 71364, 71365, 71372, 71373, 71374, 71376, 71379, 71399, 71410, 71411, 71412, 71416, 71419, 71422, 71446, 71451, 71453, 71454, 71457, 71462, 71463, 71475, 71478, 71482, 71486, 71490, 71494, 71498, 71507, 71516, 71517, 71520, 71522, 71530, 71538, 71539, 71544, 71546, 71551, 71553, 71555, 71560, 71562, 71563, 71565, 71581, 71582, 71584, 71588, 71589, 71591, 71592, 71594, 71600, 71605, 71613, 71623, 71624, 71628, 71635, 71637, 71639, 71640, 71643, 71646, 71653, 71658, 71661, 71662, 71680, 71686, 71694, 71697, 71698, 71701, 71705, 71709, 71710, 71721, 71723, 71731, 71733, 71738, 71741, 71742, 71751, 71759, 71761, 71773, 71782, 71786, 71791, 71793, 71796, 71802, 71805, 71806, 71810, 71820, 71824, 71829, 71836, 71841, 71842, 71843, 71853, 71859, 71860, 71863, 71865, 71866, 71871, 71885, 71891, 71897, 71901, 71904, 71921, 71922, 71923, 71929, 71937, 71938, 71947, 71948, 71955, 71959, 71961, 71962, 71966, 71969, 71973, 71984, 71985, 71992, 71994, 71999, 72007, 72011, 72028, 72029, 72030, 72031, 72033, 72038, 72039, 72040, 72044, 72045, 72046, 72047, 72054, 72060, 72061, 72063, 72064, 72067, 72074, 72085, 72087, 72093, 72099, 72100, 72101, 72102, 72115, 72116, 72120, 72122, 72123, 72125, 72127, 72131, 72132, 72134, 72135, 72140, 72142, 72147, 72148, 72155, 72156, 72160, 72161, 72162, 72163, 72166, 72173, 72192, 72194, 72197, 72202, 72203, 72210, 72211, 72214, 72224, 72228, 72232, 72234, 72237, 72240, 72241, 72244, 72246, 72249, 72250, 72253, 72258, 72270, 72271, 72272, 72275, 72277, 72287, 72297, 72300, 72305, 72306, 72309, 72312, 72313, 72314, 72319, 72323, 72325, 72328, 72329, 72331, 72335, 72338, 72346, 72354, 72358, 72360, 72362, 72363, 72364, 72366, 72372, 72373, 72382, 72387, 72388, 72389, 72390, 72393, 72397, 72402, 72404, 72406, 72409, 72410, 72411, 72413, 72414, 72424, 72428, 72429, 72444, 72445, 72453, 72469, 72482, 72484, 72489, 72490, 72494, 72498, 72503, 72504, 72510, 72513, 72524, 72525, 72527, 72529, 72532, 72541, 72558, 72564, 72572, 72584, 72586, 72591, 72597, 72610, 72639, 72646, 72652, 72660, 72663, 72664, 72676, 72686, 72688, 72692, 72693, 72701, 72710, 72715, 72719, 72738, 72741, 72762, 72771, 72772, 72791, 72800, 72802, 72803, 72823, 72855, 72863, 72865, 72874, 72875, 72880, 72882, 72883, 72893, 72901, 72902, 72903, 72913, 72920, 72929, 72932, 72935, 72946, 72968, 72970, 72971, 73017, 73021, 73038, 73055, 73061, 73062, 73069, 73084, 73085, 73100, 73132, 73137, 73145, 73147, 73157, 73158, 73164, 73166, 73167, 73169, 73172, 73173, 73174, 73176, 73177, 73223, 73224, 73241, 73243, 73248, 73255, 73257, 73269, 73291, 73292, 73305, 73311, 73315, 73319, 73325, 73331, 73342, 73352, 73353, 73354, 73395, 73408, 73437, 73462, 73464, 73533, 73552, 73554, 73564, 73580, 73607, 73627, 73645, 73655, 73665, 73672, 73678, 73691, 73697, 73700, 73709, 73712, 73714, 73716, 73719, 73752, 73756, 73757, 73762, 73768, 73785, 73787, 73791, 73806, 73814, 73818, 73829, 73832, 73848, 73854, 73859, 73861, 73863, 73864, 73870, 73900, 73901, 73905, 73908, 73924, 73931, 73949, 73952, 73975, 73978, 73992, 73997, 74007, 74018, 74021, 74026, 74059, 74060, 74072, 74088, 74089, 74091, 74101, 74105, 74119, 74121, 74126, 74127, 74129, 74137, 74140, 74141, 74153, 74158, 74162, 74167, 74185, 74195, 74207, 74223, 74233, 74235, 74236, 74245, 74258, 74260, 74287, 74294, 74296, 74302, 74309, 74311, 74312, 74326, 74328, 74350, 74353, 74359, 74375, 74380, 74381, 74395, 74397, 74410, 74420, 74471, 74481, 74484, 74517, 74537, 74539, 74548, 74552, 74556, 74557, 74558, 74559, 74573, 74582, 74598, 74603, 74605, 74613, 74619, 74623, 74629, 74631, 74633, 74644, 74646, 74661, 74667, 74696, 74705, 74717, 74726, 74739, 74749, 74759, 74767, 74787, 74790, 74804, 74810, 74815, 74845, 74859, 74873, 74886, 74893, 74911, 74936, 74939, 74942, 74947, 74949, 74953, 74968, 74970, 74971, 74978, 74997, 75015, 75016, 75022, 75026, 75034, 75052, 75080, 75083, 75090, 75118, 75119, 75128, 75140, 75167, 75173, 75187, 75201, 75202, 75203, 75205, 75214, 75216, 75226, 75228, 75235, 75243, 75256, 75270, 75276, 75283, 75300, 75311, 75313, 75323, 75327, 75332, 75339, 75347, 75386, 75392, 75395, 75406, 75407, 75421, 75430, 75431, 75436, 75445, 75448, 75450, 75452, 75454, 75477, 75482, 75487, 75493, 75495, 75497, 75501, 75503, 75509, 75510, 75517, 75519, 75523, 75530, 75532, 75539, 75555, 75578, 75583, 75587, 75589, 75601, 75604, 75616, 75625, 75627, 75629, 75649, 75650, 75653, 75660, 75662, 75663, 75665, 75669, 75710, 75716, 75717, 75752, 75759, 75769, 75773, 75776, 75785, 75790, 75793, 75797, 75802, 75811, 75815, 75822, 75833, 75840, 75842, 75854, 75878, 75883, 75894, 75898, 75922, 75925, 75948, 76040, 76044, 76083, 76084, 76111, 76217, 76244, 76318, 76323, 76325, 76434, 76563, 76571, 76583, 76607, 76626, 76750, 76771, 76788, 76818, 76848, 76886, 76935, 76997, 77065, 77067, 77071, 77075, 77093, 77280, 77347, 77367, 77401, 77552, 77618, 77627, 77703, 77743, 77773, 77802, 77829, 77844, 77880, 77896, 77906, 77912, 77919, 77920, 77924, 77926, 77927, 77930, 77959, 77984, 77993, 78010, 78014, 78015, 78021, 78028, 78029, 78068, 78085, 78086, 78093, 78102, 78105, 78108, 78114, 78116, 78145, 78162, 78184, 78202, 78213, 78217, 78237, 78256, 78283, 78336, 78337, 78362, 78370, 78376, 78378, 78384, 78402, 78414, 78444, 78445, 78447, 78463, 78471, 78481, 78487, 78500, 78518, 78524, 78527, 78543, 78545, 78548, 78551, 78581, 78601, 78606, 78612, 78615, 78626, 78627, 78638, 78641, 78656, 78669, 78673, 78686, 78695, 78702, 78706, 78708, 78715, 78721, 78722, 78735, 78784, 78801, 78805, 78830, 78841, 78878, 78899, 78914, 78916, 78924, 78928, 78931, 78934, 78942, 78944, 78946, 78947, 78952, 78959, 78963, 79005, 79061, 79098, 79139, 79175, 79176, 79199, 79236, 79262, 79376, 79455, 79460, 79461, 79463, 79483, 79532, 79564, 79632, 79644, 79651, 79657, 79659, 79687, 79735, 79827, 79851, 79852, 79862, 79890, 79906, 79914, 79922, 79940, 79968, 79973, 79982, 79990, 80002, 80003, 80006, 80057, 80067, 80070, 80075, 80077, 80081, 80083, 80085, 80101, 80110, 80127, 80130, 80295, 80335, 80338, 80433, 80458, 80552, 80553, 80661, 80791, 80859, 80867, 80878, 80883, 80936, 80954, 81104, 81109, 81126, 81149, 81184, 81219, 81228, 81305, 81409, 81419, 81521, 81547, 81641, 81687, 81690, 81695, 81699, 81700, 81703, 81714, 81716, 81717, 81725, 81727, 81734, 81741, 81744, 81748, 81793, 81798, 81805, 81817, 81818, 81828, 81830, 81833, 81836, 81839, 81842, 81854, 81855, 81869, 81871, 81876, 81878, 81879, 81887, 81899, 81902, 81904, 81905, 81907, 81936, 81939, 81942, 82147, 82148, 82154, 82156, 82177, 82251, 82273, 82294, 82334, 82335, 82366, 82367, 82405, 82441, 82536, 82537, 82538, 82539, 82602, 82612, 82642, 82668, 82679, 82723, 82756, 82842, 82935, 82936, 82954, 83018, 83106, 83171, 83235, 83289, 83363, 83385, 83439, 83561, 83584, 83626, 83628, 83657, 83673, 83674, 83718, 83832, 83847, 83925, 83965, 84010, 84013, 84053, 84186, 84197, 84258, 84326, 84478, 84544, 84549, 84557, 84564, 84616, 84635, 84641, 84646, 84671, 84685, 84695, 84777, 84788, 84894, 85023, 85035, 85065, 85213, 85232, 85478, 85618, 85708, 85738, 85768, 85796, 85823, 85890, 85950, 85961, 85980, 85990, 85998, 86005, 86008, 86085, 86103, 86112, 86127, 86148, 86168, 86177, 86200, 86237, 86269, 86276, 86284, 86290, 86293, 86345, 86371, 86425, 86444, 86507, 86532, 86533, 86548, 86562, 86619, 86638, 86669, 86697, 86751, 86766, 86777, 86785, 86786, 86787, 86845, 86846, 86855, 86866, 86884, 86890, 86917, 86927, 86928, 86936, 86949, 86962, 86975, 87063, 87075, 87117, 87137, 87159, 87198, 87212, 87231, 87278, 87311, 87336, 87346, 87368, 87389, 87409, 87411, 87419, 87424, 87437, 87446, 87469, 87473, 87474, 87476, 87486, 87487, 87488, 87491, 87492, 87498, 87502, 87512, 87513, 87515, 87535, 87537, 87541, 87542, 87553, 87554, 87558, 87561, 87563, 87564, 87584, 87590, 87611, 87631, 87641, 87655, 87666, 87680, 87687, 87688, 87705, 87709, 87710, 87718, 87721, 87758, 87775, 87779, 87785, 87794, 87795, 87796, 87797, 87808, 87815, 87819, 87821, 87824, 87829, 87833, 87838, 87845, 87846, 87848, 87849, 87852, 87855, 87857, 87858, 87859, 87863, 87864, 87873, 87876, 87883, 87888, 87889, 87890, 87892, 87902, 87910, 87916, 87917, 87920, 87921, 87923, 87927, 87928, 87930, 87931, 87934, 87935, 87943, 87945, 87946, 87947, 87953, 87955, 87956, 87957, 87958, 87960, 87963, 87965, 87969, 87970, 87972, 87974, 87976, 87979, 87980, 87986, 87988, 87989, 87991, 87994, 88004, 88006, 88007, 88010, 88015, 88016, 88017, 88019, 88022, 88029, 88031, 88033, 88034, 88037, 88041, 88055, 88056, 88057, 88058, 88059, 88063, 88065, 88069, 88071, 88073, 88074, 88075, 88077, 88078, 88079, 88082, 88083, 88085, 88087, 88089, 88091, 88095, 88098, 88101, 88108, 88110, 88112, 88122, 88147, 88164, 88165, 88167, 88174, 88175, 88186, 88192, 88193, 88208, 88215, 88221, 88224, 88225, 88232, 88235, 88249, 88272, 88278, 88289, 88292, 88312, 88316, 88323, 88345, 88349, 88350, 88355, 88359, 88364, 88367, 88370, 88375, 88376, 88405, 88415, 88419, 88435, 88437, 88441, 88446, 88463, 88467, 88468, 88510, 88514, 88518, 88529, 88534, 88555, 88556, 88585, 88609, 88707, 88709, 88778, 88823, 88843, 88845, 88857, 88878, 88886, 88924, 88952, 88984, 88990, 88995, 88998, 89012, 89023, 89026, 89080, 89082, 89103, 89110, 89144, 89182, 89240, 89253, 89254, 89264, 89282, 89284, 89285, 89286, 89292, 89359, 89362, 89371, 89420, 89479, 89536, 89617, 89643, 89825, 89855, 89960, 89962, 90397, 90409, 90412, 90444, 90451, 90466, 90493, 90502, 90530, 90550, 90565, 90577, 90594, 90595, 90657, 90720, 90724, 90735, 90749, 90750, 90751, 90752, 90754, 90766, 90782, 90802, 90805, 90815, 90823, 90910, 90913, 90941, 90958, 90968, 90969, 90979, 91030, 91071, 91096, 91106, 91120, 91161, 91179, 91183, 91189, 91211, 91218, 91229, 91246, 91288, 91360, 91369, 91375, 91445, 91453, 91472, 91487, 91494, 91496, 91545, 91555, 91577, 91592, 91614, 91624, 91626, 91644, 91645, 91678, 91681, 91695, 91696, 91703, 91705, 91727, 91770, 91780, 91792, 91807, 91846, 91847, 91864, 91882, 91919, 91959, 92022, 92045, 92064, 92067, 92111, 92127, 92129, 92130, 92161, 92165, 92185, 92195, 92198, 92202, 92206, 92276, 92299, 92334, 92351, 92353, 92355, 92405, 92419, 92421, 92427, 92437, 92457, 92461, 92478, 92498, 92505, 92535, 92537, 92542, 92572, 92634, 92648, 92655, 92680, 92721, 92744, 92750, 92765, 92780, 92784, 92807, 92855, 92868, 92870, 92883, 92887, 92926, 93062, 93092, 93107, 93119, 93129, 93150, 93165, 93261, 93434, 93489, 93630, 93658, 93836, 93915, 93937, 94013, 94034, 94217, 94328, 94400, 94428, 94435, 94451, 94452, 94453, 94484, 94511, 94517, 94548, 94552, 94553, 94583, 94606, 94608, 94609, 94622, 94650, 94720, 94757, 94760, 94761, 94778, 94848, 94857, 94863, 94864, 94869, 94874, 94875, 94879, 94882, 94896, 94902, 94907, 94909, 94915, 94923, 94925, 94937, 94938, 94939, 94944, 94956, 94960, 94966, 94967, 94980, 94981, 94982, 94985, 94990, 94991, 94992, 95001, 95007, 95009, 95012, 95015, 95017, 95018, 95025, 95039, 95044, 95046, 95048, 95056, 95057, 95059, 95066, 95067, 95069, 95072, 95074, 95095, 95102, 95112, 95119, 95134, 95139, 95144, 95156, 95162, 95165, 95173, 95174, 95187, 95193, 95212, 95216, 95217, 95218, 95223, 95226, 95228, 95230, 95234, 95238, 95239, 95246, 95247, 95252, 95257, 95269, 95271, 95287, 95289, 95291, 95299, 95303, 95307, 95309, 95315, 95325, 95328, 95342, 95347, 95350, 95357, 95359, 95366, 95368, 95372, 95373, 95378, 95382, 95384, 95389, 95390, 95394, 95415, 95421, 95422, 95426, 95427, 95450, 95459, 95467, 95485, 95488, 95494, 95497, 95500, 95508, 95520, 95524, 95529, 95530, 95531, 95537, 95545, 95546, 95551, 95559, 95560, 95561, 95572, 95577, 95583, 95587, 95588, 95592, 95598, 95599, 95603, 95613, 95614, 95619, 95620, 95621, 95625, 95632, 95635, 95637, 95643, 95645, 95657, 95663, 95666, 95668, 95670, 95672, 95680, 95681, 95684, 95692, 95695, 95696, 95697, 95704, 95708, 95719, 95721, 95722, 95723, 95733, 95740, 95742, 95745, 95754, 95760, 95765, 95767, 95768, 95775, 95778, 95781, 95782, 95787, 95798, 95804, 95814, 95823, 95828, 95830, 95836, 95837, 95839, 95845, 95847, 95859, 95862, 95863, 95868, 95872, 95876, 95882, 95891, 95900, 95902, 95903, 95907, 95916, 95919, 95921, 95925, 95930, 95935, 95938, 95940, 95955, 95956, 95961, 95964, 95965, 95987, 95990, 95993, 95994, 96001, 96008, 96018, 96032, 96033, 96035, 96038, 96039, 96049, 96053, 96066, 96071, 96073, 96074, 96076, 96077, 96091, 96101, 96108, 96109, 96110, 96116, 96120, 96144, 96145, 96146, 96173, 96176, 96178, 96185, 96193, 96210, 96219, 96224, 96231, 96236, 96244, 96248, 96251, 96253, 96255, 96263, 96269, 96270, 96271, 96281, 96284, 96293, 96303, 96308, 96313, 96323, 96325, 96327, 96334, 96338, 96339, 96340, 96345, 96347, 96350, 96360, 96361, 96365, 96383, 96384, 96386, 96397, 96400, 96401, 96415, 96416, 96422, 96424, 96426, 96427, 96430, 96433, 96441, 96443, 96445, 96450, 96454, 96458, 96464, 96466, 96470, 96476, 96482, 96486, 96488, 96495, 96496, 96498, 96510, 96512, 96515, 96516, 96518, 96521, 96523, 96525, 96526, 96530, 96532, 96536, 96542, 96545, 96546, 96547, 96555, 96556, 96567, 96573, 96580, 96582, 96587, 96588, 96593, 96594, 96596, 96599, 96601, 96607, 96609, 96616, 96621, 96632, 96634, 96642, 96644, 96649, 96650, 96660, 96665, 96667, 96675, 96678, 96679, 96681, 96685, 96689, 96691, 96701, 96706, 96708, 96710, 96711, 96715, 96719, 96727, 96733, 96738, 96739, 96741, 96744, 96746, 96747, 96749, 96755, 96756, 96758, 96765, 96770, 96771, 96772, 96773, 96783, 96786, 96787, 96797, 96823, 96824, 96841, 96844, 96849, 96850, 96853, 96858, 96865, 96866, 96871, 96872, 96873, 96876, 96880, 96888, 96889, 96891, 96902, 96903, 96913, 96923, 96924, 96926, 96931, 96936, 96937, 96938, 96942, 96948, 96949, 96953, 96955, 96956, 96961, 96962, 96967, 96975, 96979, 96990, 96994, 96996, 96999, 97002, 97013, 97015, 97023, 97025, 97029, 97034, 97041, 97050, 97052, 97061, 97066, 97069, 97072, 97073, 97076, 97087, 97088, 97096, 97108, 97109, 97110, 97118, 97121, 97124, 97125, 97133, 97138, 97139, 97146, 97163, 97169, 97170, 97175, 97177, 97178, 97181, 97186, 97189, 97206, 97213, 97214, 97217, 97218, 97234, 97235, 97239, 97241, 97245, 97247, 97248, 97251, 97257, 97259, 97262, 97264, 97265, 97267, 97272, 97273, 97276, 97285, 97294, 97297, 97300, 97302, 97313, 97327, 97333, 97337, 97338, 97339, 97340, 97342, 97345, 97351, 97355, 97361, 97366, 97373, 97380, 97381, 97383, 97387, 97388, 97393, 97394, 97399, 97404, 97408, 97410, 97414, 97429, 97432, 97437, 97438, 97440, 97444, 97448, 97449, 97450, 97451, 97452, 97454, 97458, 97469, 97473, 97476, 97477, 97479, 97480, 97484, 97489, 97491, 97492, 97496, 97501, 97519, 97520, 97521, 97522, 97525, 97527, 97533, 97535, 97537, 97538, 97541, 97546, 97547, 97551, 97557, 97568, 97571, 97572, 97579, 97586, 97595, 97604, 97606, 97615, 97616, 97617, 97619, 97623, 97632, 97633, 97640, 97641, 97642, 97644, 97646, 97648, 97650, 97651, 97666, 97667, 97672, 97675, 97676, 97686, 97689, 97691, 97692, 97768, 97806, 97815, 97854, 97905, 97910, 97926, 97940, 97943, 97951, 98010, 98024, 98027, 98072, 98158, 98198, 98247, 98269, 98311, 98361, 98377, 98414, 98423, 98450, 98452, 98460, 98462, 98467, 98469, 98470, 98491, 98549, 98567, 98583, 98655, 98712, 98762, 98805, 98807, 98811, 98851, 98862, 98878, 98884, 98888, 98898, 98913, 98938, 98993, 98999, 99004, 99030, 99037, 99052, 99084, 99101, 99107, 99110, 99119, 99138, 99180, 99205, 99252, 99256, 99261, 99265, 99266, 99268, 99269, 99270, 99317, 99349, 99350, 99366, 99370, 99393, 99405, 99408, 99414, 99415, 99427, 99432, 99441, 99455, 99479, 99512, 99519, 99521, 99542, 99554, 99558, 99560, 99562, 99586, 99608, 99610, 99625, 99632, 99659, 99740, 99760, 99788, 99795, 99797, 99827, 99846, 99858, 99876, 99892, 99927, 99941, 99973, 99979, 100067, 100493, 100497, 100501, 100523, 100538, 100544, 100553, 100554, 100555, 100557, 100562, 100568, 100573, 100577, 100581, 100582, 100584, 100588, 100589, 100593, 100597, 100599, 100613, 100615, 100629, 100635, 100646, 100651, 100661, 100664, 100676, 100683, 100684, 100689, 100690, 100694, 100695, 100697, 100703, 100710, 100711, 100722, 100728, 100731, 100733, 100734, 100751, 100753, 100754, 100763, 100766, 100769, 100770, 100777, 100781, 100785, 100787, 100788, 100790, 100791, 100797])])"
      ]
     },
     "execution_count": 49,
     "metadata": {},
     "output_type": "execute_result"
    }
   ],
   "source": [
    "index.items()"
   ]
  },
  {
   "cell_type": "markdown",
   "metadata": {},
   "source": [
    "<font color= \"cian\"> There is one outlier in `age` variable with the value 107. I decide to delete it."
   ]
  },
  {
   "cell_type": "code",
   "execution_count": 175,
   "metadata": {},
   "outputs": [
    {
     "data": {
      "text/plain": [
       "[34903]"
      ]
     },
     "execution_count": 175,
     "metadata": {},
     "output_type": "execute_result"
    }
   ],
   "source": [
    "outlier_list = list(outliers_data.index)\n",
    "outlier_list\n"
   ]
  },
  {
   "cell_type": "code",
   "execution_count": 150,
   "metadata": {},
   "outputs": [
    {
     "data": {
      "text/plain": [
       "(98014, 5)"
      ]
     },
     "execution_count": 150,
     "metadata": {},
     "output_type": "execute_result"
    }
   ],
   "source": [
    "df_clean = df_num.drop(outliers_data.index)\n",
    "df_clean.shape"
   ]
  },
  {
   "cell_type": "code",
   "execution_count": 151,
   "metadata": {},
   "outputs": [
    {
     "data": {
      "text/plain": [
       "(98015, 5)"
      ]
     },
     "execution_count": 151,
     "metadata": {},
     "output_type": "execute_result"
    }
   ],
   "source": [
    "df_num.shape"
   ]
  },
  {
   "cell_type": "markdown",
   "metadata": {},
   "source": [
    "<font color= \"cian\"> Here we see comparing `df_num` with `df_clean` and we delete one row. Just how we want."
   ]
  },
  {
   "cell_type": "code",
   "execution_count": null,
   "metadata": {},
   "outputs": [],
   "source": [
    "df_num.iloc[[34903]]"
   ]
  },
  {
   "cell_type": "code",
   "execution_count": 168,
   "metadata": {},
   "outputs": [
    {
     "data": {
      "text/html": [
       "<div>\n",
       "<style scoped>\n",
       "    .dataframe tbody tr th:only-of-type {\n",
       "        vertical-align: middle;\n",
       "    }\n",
       "\n",
       "    .dataframe tbody tr th {\n",
       "        vertical-align: top;\n",
       "    }\n",
       "\n",
       "    .dataframe thead th {\n",
       "        text-align: right;\n",
       "    }\n",
       "</style>\n",
       "<table border=\"1\" class=\"dataframe\">\n",
       "  <thead>\n",
       "    <tr style=\"text-align: right;\">\n",
       "      <th></th>\n",
       "      <th>year</th>\n",
       "      <th>month</th>\n",
       "      <th>police</th>\n",
       "      <th>age</th>\n",
       "      <th>hispanic</th>\n",
       "    </tr>\n",
       "  </thead>\n",
       "  <tbody>\n",
       "    <tr>\n",
       "      <th>35909</th>\n",
       "      <td>2013</td>\n",
       "      <td>11</td>\n",
       "      <td>0</td>\n",
       "      <td>78.0</td>\n",
       "      <td>100</td>\n",
       "    </tr>\n",
       "  </tbody>\n",
       "</table>\n",
       "</div>"
      ],
      "text/plain": [
       "       year  month  police   age  hispanic\n",
       "35909  2013     11       0  78.0       100"
      ]
     },
     "execution_count": 168,
     "metadata": {},
     "output_type": "execute_result"
    }
   ],
   "source": [
    "df_clean.iloc[[34903]]"
   ]
  },
  {
   "cell_type": "code",
   "execution_count": null,
   "metadata": {},
   "outputs": [],
   "source": [
    "# create a function to check the outliers "
   ]
  },
  {
   "cell_type": "markdown",
   "metadata": {},
   "source": [
    "_________________________________________"
   ]
  },
  {
   "cell_type": "markdown",
   "metadata": {},
   "source": [
    "<font color= \"cian\"> How many gun deaths are there by race?"
   ]
  },
  {
   "cell_type": "code",
   "execution_count": 144,
   "metadata": {},
   "outputs": [
    {
     "data": {
      "text/plain": [
       "White                             64598\n",
       "Black                             22675\n",
       "Hispanic                           8603\n",
       "Asian/Pacific Islander             1261\n",
       "Native American/Native Alaskan      878\n",
       "Name: race, dtype: int64"
      ]
     },
     "execution_count": 144,
     "metadata": {},
     "output_type": "execute_result"
    }
   ],
   "source": [
    "df[\"race\"].value_counts()"
   ]
  },
  {
   "cell_type": "code",
   "execution_count": 145,
   "metadata": {},
   "outputs": [
    {
     "data": {
      "text/html": [
       "<div>\n",
       "<style scoped>\n",
       "    .dataframe tbody tr th:only-of-type {\n",
       "        vertical-align: middle;\n",
       "    }\n",
       "\n",
       "    .dataframe tbody tr th {\n",
       "        vertical-align: top;\n",
       "    }\n",
       "\n",
       "    .dataframe thead th {\n",
       "        text-align: right;\n",
       "    }\n",
       "</style>\n",
       "<table border=\"1\" class=\"dataframe\">\n",
       "  <thead>\n",
       "    <tr style=\"text-align: right;\">\n",
       "      <th></th>\n",
       "      <th>race</th>\n",
       "      <th>count</th>\n",
       "      <th>percent</th>\n",
       "      <th>cumulative_count</th>\n",
       "      <th>cumulative_percent</th>\n",
       "    </tr>\n",
       "  </thead>\n",
       "  <tbody>\n",
       "    <tr>\n",
       "      <th>0</th>\n",
       "      <td>White</td>\n",
       "      <td>64598</td>\n",
       "      <td>65.906239</td>\n",
       "      <td>64598</td>\n",
       "      <td>65.906239</td>\n",
       "    </tr>\n",
       "    <tr>\n",
       "      <th>1</th>\n",
       "      <td>Black</td>\n",
       "      <td>22675</td>\n",
       "      <td>23.134214</td>\n",
       "      <td>87273</td>\n",
       "      <td>89.040453</td>\n",
       "    </tr>\n",
       "    <tr>\n",
       "      <th>2</th>\n",
       "      <td>Hispanic</td>\n",
       "      <td>8603</td>\n",
       "      <td>8.777228</td>\n",
       "      <td>95876</td>\n",
       "      <td>97.817681</td>\n",
       "    </tr>\n",
       "    <tr>\n",
       "      <th>3</th>\n",
       "      <td>Asian/Pacific Islander</td>\n",
       "      <td>1261</td>\n",
       "      <td>1.286538</td>\n",
       "      <td>97137</td>\n",
       "      <td>99.104219</td>\n",
       "    </tr>\n",
       "    <tr>\n",
       "      <th>4</th>\n",
       "      <td>Native American/Native Alaskan</td>\n",
       "      <td>878</td>\n",
       "      <td>0.895781</td>\n",
       "      <td>98015</td>\n",
       "      <td>100.000000</td>\n",
       "    </tr>\n",
       "  </tbody>\n",
       "</table>\n",
       "</div>"
      ],
      "text/plain": [
       "                             race  count    percent  cumulative_count  \\\n",
       "0                           White  64598  65.906239             64598   \n",
       "1                           Black  22675  23.134214             87273   \n",
       "2                        Hispanic   8603   8.777228             95876   \n",
       "3          Asian/Pacific Islander   1261   1.286538             97137   \n",
       "4  Native American/Native Alaskan    878   0.895781             98015   \n",
       "\n",
       "   cumulative_percent  \n",
       "0           65.906239  \n",
       "1           89.040453  \n",
       "2           97.817681  \n",
       "3           99.104219  \n",
       "4          100.000000  "
      ]
     },
     "execution_count": 145,
     "metadata": {},
     "output_type": "execute_result"
    }
   ],
   "source": [
    "df.stb.freq([\"race\"])"
   ]
  },
  {
   "cell_type": "markdown",
   "metadata": {},
   "source": [
    "<font color= \"cian\">  Mean age by race"
   ]
  },
  {
   "cell_type": "code",
   "execution_count": 146,
   "metadata": {},
   "outputs": [
    {
     "data": {
      "text/plain": [
       "race\n",
       "Asian/Pacific Islander            38.61\n",
       "Black                             31.06\n",
       "Hispanic                          33.14\n",
       "Native American/Native Alaskan    36.49\n",
       "White                             50.04\n",
       "Name: age, dtype: float64"
      ]
     },
     "execution_count": 146,
     "metadata": {},
     "output_type": "execute_result"
    }
   ],
   "source": [
    "mean_race = round(df.groupby([\"race\"])[\"age\"].mean(),2)\n",
    "mean_race"
   ]
  },
  {
   "cell_type": "markdown",
   "metadata": {},
   "source": [
    "<font color= \"cian\"> Trying colors"
   ]
  }
 ],
 "metadata": {
  "kernelspec": {
   "display_name": "Python 3.9.1 64-bit",
   "language": "python",
   "name": "python3"
  },
  "language_info": {
   "codemirror_mode": {
    "name": "ipython",
    "version": 3
   },
   "file_extension": ".py",
   "mimetype": "text/x-python",
   "name": "python",
   "nbconvert_exporter": "python",
   "pygments_lexer": "ipython3",
   "version": "3.9.1"
  },
  "orig_nbformat": 4,
  "vscode": {
   "interpreter": {
    "hash": "11938c6bc6919ae2720b4d5011047913343b08a43b18698fd82dedb0d4417594"
   }
  }
 },
 "nbformat": 4,
 "nbformat_minor": 2
}
