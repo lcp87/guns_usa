{
 "cells": [
  {
   "cell_type": "markdown",
   "metadata": {},
   "source": [
    "# Guns in USA"
   ]
  },
  {
   "cell_type": "markdown",
   "metadata": {},
   "source": [
    "https://www.atf.gov/resource-center/data-statistics"
   ]
  },
  {
   "cell_type": "code",
   "execution_count": 2,
   "metadata": {},
   "outputs": [],
   "source": [
    "import pandas as pd\n",
    "import numpy as np\n",
    "import sidetable"
   ]
  },
  {
   "cell_type": "markdown",
   "metadata": {},
   "source": [
    "<font color= \"cian\"> data from: https://fivethirtyeight.com/features/gun-deaths-about/ "
   ]
  },
  {
   "cell_type": "markdown",
   "metadata": {},
   "source": [
    "<font color= \"cian\"> Charging the data"
   ]
  },
  {
   "cell_type": "code",
   "execution_count": 3,
   "metadata": {},
   "outputs": [],
   "source": [
    "df = pd.read_csv(\"full_data.csv\", index_col = 0)"
   ]
  },
  {
   "cell_type": "markdown",
   "metadata": {},
   "source": [
    "<font color= \"cian\"> Exploring the data: I want to explore the shape of our dataframe(df), unique values, typo errors, types of data..."
   ]
  },
  {
   "cell_type": "code",
   "execution_count": 4,
   "metadata": {},
   "outputs": [
    {
     "data": {
      "text/html": [
       "<div>\n",
       "<style scoped>\n",
       "    .dataframe tbody tr th:only-of-type {\n",
       "        vertical-align: middle;\n",
       "    }\n",
       "\n",
       "    .dataframe tbody tr th {\n",
       "        vertical-align: top;\n",
       "    }\n",
       "\n",
       "    .dataframe thead th {\n",
       "        text-align: right;\n",
       "    }\n",
       "</style>\n",
       "<table border=\"1\" class=\"dataframe\">\n",
       "  <thead>\n",
       "    <tr style=\"text-align: right;\">\n",
       "      <th></th>\n",
       "      <th>year</th>\n",
       "      <th>month</th>\n",
       "      <th>intent</th>\n",
       "      <th>police</th>\n",
       "      <th>sex</th>\n",
       "      <th>age</th>\n",
       "      <th>race</th>\n",
       "      <th>hispanic</th>\n",
       "      <th>place</th>\n",
       "      <th>education</th>\n",
       "    </tr>\n",
       "  </thead>\n",
       "  <tbody>\n",
       "    <tr>\n",
       "      <th>1</th>\n",
       "      <td>2012</td>\n",
       "      <td>1</td>\n",
       "      <td>Suicide</td>\n",
       "      <td>0</td>\n",
       "      <td>M</td>\n",
       "      <td>34.0</td>\n",
       "      <td>Asian/Pacific Islander</td>\n",
       "      <td>100</td>\n",
       "      <td>Home</td>\n",
       "      <td>BA+</td>\n",
       "    </tr>\n",
       "    <tr>\n",
       "      <th>2</th>\n",
       "      <td>2012</td>\n",
       "      <td>1</td>\n",
       "      <td>Suicide</td>\n",
       "      <td>0</td>\n",
       "      <td>F</td>\n",
       "      <td>21.0</td>\n",
       "      <td>White</td>\n",
       "      <td>100</td>\n",
       "      <td>Street</td>\n",
       "      <td>Some college</td>\n",
       "    </tr>\n",
       "    <tr>\n",
       "      <th>3</th>\n",
       "      <td>2012</td>\n",
       "      <td>1</td>\n",
       "      <td>Suicide</td>\n",
       "      <td>0</td>\n",
       "      <td>M</td>\n",
       "      <td>60.0</td>\n",
       "      <td>White</td>\n",
       "      <td>100</td>\n",
       "      <td>Other specified</td>\n",
       "      <td>BA+</td>\n",
       "    </tr>\n",
       "    <tr>\n",
       "      <th>4</th>\n",
       "      <td>2012</td>\n",
       "      <td>2</td>\n",
       "      <td>Suicide</td>\n",
       "      <td>0</td>\n",
       "      <td>M</td>\n",
       "      <td>64.0</td>\n",
       "      <td>White</td>\n",
       "      <td>100</td>\n",
       "      <td>Home</td>\n",
       "      <td>BA+</td>\n",
       "    </tr>\n",
       "    <tr>\n",
       "      <th>5</th>\n",
       "      <td>2012</td>\n",
       "      <td>2</td>\n",
       "      <td>Suicide</td>\n",
       "      <td>0</td>\n",
       "      <td>M</td>\n",
       "      <td>31.0</td>\n",
       "      <td>White</td>\n",
       "      <td>100</td>\n",
       "      <td>Other specified</td>\n",
       "      <td>HS/GED</td>\n",
       "    </tr>\n",
       "  </tbody>\n",
       "</table>\n",
       "</div>"
      ],
      "text/plain": [
       "   year  month   intent  police sex   age                    race  hispanic  \\\n",
       "1  2012      1  Suicide       0   M  34.0  Asian/Pacific Islander       100   \n",
       "2  2012      1  Suicide       0   F  21.0                   White       100   \n",
       "3  2012      1  Suicide       0   M  60.0                   White       100   \n",
       "4  2012      2  Suicide       0   M  64.0                   White       100   \n",
       "5  2012      2  Suicide       0   M  31.0                   White       100   \n",
       "\n",
       "             place     education  \n",
       "1             Home           BA+  \n",
       "2           Street  Some college  \n",
       "3  Other specified           BA+  \n",
       "4             Home           BA+  \n",
       "5  Other specified        HS/GED  "
      ]
     },
     "execution_count": 4,
     "metadata": {},
     "output_type": "execute_result"
    }
   ],
   "source": [
    "df.head()"
   ]
  },
  {
   "cell_type": "code",
   "execution_count": 5,
   "metadata": {},
   "outputs": [
    {
     "data": {
      "text/plain": [
       "(100798, 10)"
      ]
     },
     "execution_count": 5,
     "metadata": {},
     "output_type": "execute_result"
    }
   ],
   "source": [
    "df.shape"
   ]
  },
  {
   "cell_type": "code",
   "execution_count": 6,
   "metadata": {},
   "outputs": [
    {
     "data": {
      "text/plain": [
       "year           int64\n",
       "month          int64\n",
       "intent        object\n",
       "police         int64\n",
       "sex           object\n",
       "age          float64\n",
       "race          object\n",
       "hispanic       int64\n",
       "place         object\n",
       "education     object\n",
       "dtype: object"
      ]
     },
     "execution_count": 6,
     "metadata": {},
     "output_type": "execute_result"
    }
   ],
   "source": [
    "df.dtypes"
   ]
  },
  {
   "cell_type": "markdown",
   "metadata": {},
   "source": [
    "<font color= \"cian\"> All the types look correctly."
   ]
  },
  {
   "cell_type": "markdown",
   "metadata": {},
   "source": [
    "<font color= \"cian\"> Exploring nulls"
   ]
  },
  {
   "cell_type": "code",
   "execution_count": 7,
   "metadata": {},
   "outputs": [
    {
     "data": {
      "text/html": [
       "<div>\n",
       "<style scoped>\n",
       "    .dataframe tbody tr th:only-of-type {\n",
       "        vertical-align: middle;\n",
       "    }\n",
       "\n",
       "    .dataframe tbody tr th {\n",
       "        vertical-align: top;\n",
       "    }\n",
       "\n",
       "    .dataframe thead th {\n",
       "        text-align: right;\n",
       "    }\n",
       "</style>\n",
       "<table border=\"1\" class=\"dataframe\">\n",
       "  <thead>\n",
       "    <tr style=\"text-align: right;\">\n",
       "      <th></th>\n",
       "      <th>0</th>\n",
       "    </tr>\n",
       "  </thead>\n",
       "  <tbody>\n",
       "    <tr>\n",
       "      <th>year</th>\n",
       "      <td>0.000000</td>\n",
       "    </tr>\n",
       "    <tr>\n",
       "      <th>month</th>\n",
       "      <td>0.000000</td>\n",
       "    </tr>\n",
       "    <tr>\n",
       "      <th>intent</th>\n",
       "      <td>0.000992</td>\n",
       "    </tr>\n",
       "    <tr>\n",
       "      <th>police</th>\n",
       "      <td>0.000000</td>\n",
       "    </tr>\n",
       "    <tr>\n",
       "      <th>sex</th>\n",
       "      <td>0.000000</td>\n",
       "    </tr>\n",
       "    <tr>\n",
       "      <th>age</th>\n",
       "      <td>0.017857</td>\n",
       "    </tr>\n",
       "    <tr>\n",
       "      <th>race</th>\n",
       "      <td>0.000000</td>\n",
       "    </tr>\n",
       "    <tr>\n",
       "      <th>hispanic</th>\n",
       "      <td>0.000000</td>\n",
       "    </tr>\n",
       "    <tr>\n",
       "      <th>place</th>\n",
       "      <td>1.373043</td>\n",
       "    </tr>\n",
       "    <tr>\n",
       "      <th>education</th>\n",
       "      <td>1.410742</td>\n",
       "    </tr>\n",
       "  </tbody>\n",
       "</table>\n",
       "</div>"
      ],
      "text/plain": [
       "                  0\n",
       "year       0.000000\n",
       "month      0.000000\n",
       "intent     0.000992\n",
       "police     0.000000\n",
       "sex        0.000000\n",
       "age        0.017857\n",
       "race       0.000000\n",
       "hispanic   0.000000\n",
       "place      1.373043\n",
       "education  1.410742"
      ]
     },
     "execution_count": 7,
     "metadata": {},
     "output_type": "execute_result"
    }
   ],
   "source": [
    "percent_missing = pd.DataFrame(df.isna().sum()*100 / len(df))\n",
    "percent_missing"
   ]
  },
  {
   "cell_type": "markdown",
   "metadata": {},
   "source": [
    "<font color= \"cian\">"
   ]
  },
  {
   "cell_type": "markdown",
   "metadata": {},
   "source": [
    "<font color= \"cian\"> I assume that this 1% of nulls is not so much, then I will eliminate them."
   ]
  },
  {
   "cell_type": "code",
   "execution_count": 8,
   "metadata": {},
   "outputs": [],
   "source": [
    "df.dropna(inplace= True)"
   ]
  },
  {
   "cell_type": "markdown",
   "metadata": {},
   "source": [
    "<font color= \"cian\"> Are there duplicates?"
   ]
  },
  {
   "cell_type": "code",
   "execution_count": 9,
   "metadata": {},
   "outputs": [
    {
     "data": {
      "text/plain": [
       "39.190940162220066"
      ]
     },
     "execution_count": 9,
     "metadata": {},
     "output_type": "execute_result"
    }
   ],
   "source": [
    "df.duplicated().sum()*100/len(df)"
   ]
  },
  {
   "cell_type": "markdown",
   "metadata": {},
   "source": [
    "<font color= \"cian\"> We have many duplicates but is logical because of the type our data. I decide to maintain them. "
   ]
  },
  {
   "cell_type": "markdown",
   "metadata": {},
   "source": [
    "<font color= \"cian\"> The columns of our dataset"
   ]
  },
  {
   "cell_type": "code",
   "execution_count": 10,
   "metadata": {},
   "outputs": [
    {
     "data": {
      "text/plain": [
       "Index(['year', 'month', 'intent', 'police', 'sex', 'age', 'race', 'hispanic',\n",
       "       'place', 'education'],\n",
       "      dtype='object')"
      ]
     },
     "execution_count": 10,
     "metadata": {},
     "output_type": "execute_result"
    }
   ],
   "source": [
    "df.columns"
   ]
  },
  {
   "cell_type": "markdown",
   "metadata": {},
   "source": [
    "<font color= \"cian\"> Different categories or types of gun deaths (unique values)"
   ]
  },
  {
   "cell_type": "code",
   "execution_count": 17,
   "metadata": {},
   "outputs": [
    {
     "name": "stdout",
     "output_type": "stream",
     "text": [
      "\n",
      " In the variable ---------->  year ----- > These are the unique values:   [2012 2013 2014]\n",
      "\n",
      " In the variable ---------->  month ----- > These are the unique values:   [ 1  2  3  4  5  6  7  8  9 10 11 12]\n",
      "\n",
      " In the variable ---------->  intent ----- > These are the unique values:   ['Suicide' 'Undetermined' 'Accidental' 'Homicide']\n",
      "\n",
      " In the variable ---------->  police ----- > These are the unique values:   [0 1]\n",
      "\n",
      " In the variable ---------->  sex ----- > These are the unique values:   ['M' 'F']\n",
      "\n",
      " In the variable ---------->  age ----- > These are the unique values:   [ 34.  21.  60.  64.  31.  17.  48.  41.  50.  30.  43.  27.  55.  53.\n",
      "  51.  65.  52.  47.  19.  22.  56.  38.  25.  26.  23.  87.  28.  39.\n",
      "  59.  61.  12.  40.  57.  20.  62.  71.  44.  29.  24.   9.  77.  18.\n",
      "  36.  49.  13.  33.  90.  63.  46.  32.  84.  68.  89.  58.  78.  66.\n",
      "  81.  54.  45.  37.  35.  42.  67.  69.  72.  82.  75.  73.  15.  83.\n",
      "  74.  86.  16.  88.  80.  79.  91.  76.  14.  95.  96.  70.   7.  85.\n",
      "  93.   4.   1.  92.  97.   3.   2.  94.  11.   8.   6.   0.  99.  10.\n",
      "  98.   5. 102. 107. 101.]\n",
      "\n",
      " In the variable ---------->  race ----- > These are the unique values:   ['Asian/Pacific Islander' 'White' 'Native American/Native Alaskan' 'Black'\n",
      " 'Hispanic']\n",
      "\n",
      " In the variable ---------->  hispanic ----- > These are the unique values:   [100 281 211 261 210 222 282 260 998 231 237 200 223 270 226 275 250 234\n",
      " 280 227 224 286 233 271 220 225 235 242 212 221 239 299 232 291 217 252\n",
      " 209 238 218]\n",
      "\n",
      " In the variable ---------->  place ----- > These are the unique values:   ['Home' 'Street' 'Other specified' 'Other unspecified'\n",
      " 'Trade/service area' 'Farm' 'Industrial/construction' 'School/instiution'\n",
      " 'Sports' 'Residential institution']\n",
      "\n",
      " In the variable ---------->  education ----- > These are the unique values:   ['BA+' 'Some college' 'HS/GED' 'Less than HS']\n"
     ]
    }
   ],
   "source": [
    "for col in df.columns:\n",
    "    print(\"\\n In the variable ----------> \", col,\"----- > These are the unique values:  \", df[col].unique())"
   ]
  },
  {
   "cell_type": "markdown",
   "metadata": {},
   "source": [
    "<font color= \"red\"> Investigate what is each column and their values. Hispanic?"
   ]
  },
  {
   "cell_type": "markdown",
   "metadata": {},
   "source": [
    "<font color= \"cian\"> Different categories or types of gun deaths"
   ]
  },
  {
   "cell_type": "code",
   "execution_count": 18,
   "metadata": {},
   "outputs": [
    {
     "data": {
      "text/html": [
       "<div>\n",
       "<style scoped>\n",
       "    .dataframe tbody tr th:only-of-type {\n",
       "        vertical-align: middle;\n",
       "    }\n",
       "\n",
       "    .dataframe tbody tr th {\n",
       "        vertical-align: top;\n",
       "    }\n",
       "\n",
       "    .dataframe thead th {\n",
       "        text-align: right;\n",
       "    }\n",
       "</style>\n",
       "<table border=\"1\" class=\"dataframe\">\n",
       "  <thead>\n",
       "    <tr style=\"text-align: right;\">\n",
       "      <th></th>\n",
       "      <th>year</th>\n",
       "      <th>month</th>\n",
       "      <th>police</th>\n",
       "      <th>age</th>\n",
       "      <th>hispanic</th>\n",
       "    </tr>\n",
       "  </thead>\n",
       "  <tbody>\n",
       "    <tr>\n",
       "      <th>count</th>\n",
       "      <td>98015.000000</td>\n",
       "      <td>98015.000000</td>\n",
       "      <td>98015.000000</td>\n",
       "      <td>98015.000000</td>\n",
       "      <td>98015.000000</td>\n",
       "    </tr>\n",
       "    <tr>\n",
       "      <th>mean</th>\n",
       "      <td>2013.000561</td>\n",
       "      <td>6.567780</td>\n",
       "      <td>0.000194</td>\n",
       "      <td>43.900209</td>\n",
       "      <td>112.420650</td>\n",
       "    </tr>\n",
       "    <tr>\n",
       "      <th>std</th>\n",
       "      <td>0.816136</td>\n",
       "      <td>3.406984</td>\n",
       "      <td>0.013922</td>\n",
       "      <td>19.522908</td>\n",
       "      <td>49.320698</td>\n",
       "    </tr>\n",
       "    <tr>\n",
       "      <th>min</th>\n",
       "      <td>2012.000000</td>\n",
       "      <td>1.000000</td>\n",
       "      <td>0.000000</td>\n",
       "      <td>0.000000</td>\n",
       "      <td>100.000000</td>\n",
       "    </tr>\n",
       "    <tr>\n",
       "      <th>25%</th>\n",
       "      <td>2012.000000</td>\n",
       "      <td>4.000000</td>\n",
       "      <td>0.000000</td>\n",
       "      <td>27.000000</td>\n",
       "      <td>100.000000</td>\n",
       "    </tr>\n",
       "    <tr>\n",
       "      <th>50%</th>\n",
       "      <td>2013.000000</td>\n",
       "      <td>7.000000</td>\n",
       "      <td>0.000000</td>\n",
       "      <td>42.000000</td>\n",
       "      <td>100.000000</td>\n",
       "    </tr>\n",
       "    <tr>\n",
       "      <th>75%</th>\n",
       "      <td>2014.000000</td>\n",
       "      <td>9.000000</td>\n",
       "      <td>0.000000</td>\n",
       "      <td>58.000000</td>\n",
       "      <td>100.000000</td>\n",
       "    </tr>\n",
       "    <tr>\n",
       "      <th>max</th>\n",
       "      <td>2014.000000</td>\n",
       "      <td>12.000000</td>\n",
       "      <td>1.000000</td>\n",
       "      <td>107.000000</td>\n",
       "      <td>998.000000</td>\n",
       "    </tr>\n",
       "  </tbody>\n",
       "</table>\n",
       "</div>"
      ],
      "text/plain": [
       "               year         month        police           age      hispanic\n",
       "count  98015.000000  98015.000000  98015.000000  98015.000000  98015.000000\n",
       "mean    2013.000561      6.567780      0.000194     43.900209    112.420650\n",
       "std        0.816136      3.406984      0.013922     19.522908     49.320698\n",
       "min     2012.000000      1.000000      0.000000      0.000000    100.000000\n",
       "25%     2012.000000      4.000000      0.000000     27.000000    100.000000\n",
       "50%     2013.000000      7.000000      0.000000     42.000000    100.000000\n",
       "75%     2014.000000      9.000000      0.000000     58.000000    100.000000\n",
       "max     2014.000000     12.000000      1.000000    107.000000    998.000000"
      ]
     },
     "execution_count": 18,
     "metadata": {},
     "output_type": "execute_result"
    }
   ],
   "source": [
    "df.describe()"
   ]
  },
  {
   "cell_type": "markdown",
   "metadata": {},
   "source": [
    "<font color= \"cian\"> Here we see the minimum value in `age` is 1, an ilogical value. We have to solve this. "
   ]
  },
  {
   "cell_type": "code",
   "execution_count": 12,
   "metadata": {},
   "outputs": [
    {
     "data": {
      "text/html": [
       "<div>\n",
       "<style scoped>\n",
       "    .dataframe tbody tr th:only-of-type {\n",
       "        vertical-align: middle;\n",
       "    }\n",
       "\n",
       "    .dataframe tbody tr th {\n",
       "        vertical-align: top;\n",
       "    }\n",
       "\n",
       "    .dataframe thead th {\n",
       "        text-align: right;\n",
       "    }\n",
       "</style>\n",
       "<table border=\"1\" class=\"dataframe\">\n",
       "  <thead>\n",
       "    <tr style=\"text-align: right;\">\n",
       "      <th></th>\n",
       "      <th>intent</th>\n",
       "      <th>sex</th>\n",
       "      <th>race</th>\n",
       "      <th>place</th>\n",
       "      <th>education</th>\n",
       "    </tr>\n",
       "  </thead>\n",
       "  <tbody>\n",
       "    <tr>\n",
       "      <th>count</th>\n",
       "      <td>98015</td>\n",
       "      <td>98015</td>\n",
       "      <td>98015</td>\n",
       "      <td>98015</td>\n",
       "      <td>98015</td>\n",
       "    </tr>\n",
       "    <tr>\n",
       "      <th>unique</th>\n",
       "      <td>4</td>\n",
       "      <td>2</td>\n",
       "      <td>5</td>\n",
       "      <td>10</td>\n",
       "      <td>4</td>\n",
       "    </tr>\n",
       "    <tr>\n",
       "      <th>top</th>\n",
       "      <td>Suicide</td>\n",
       "      <td>M</td>\n",
       "      <td>White</td>\n",
       "      <td>Home</td>\n",
       "      <td>HS/GED</td>\n",
       "    </tr>\n",
       "    <tr>\n",
       "      <th>freq</th>\n",
       "      <td>62291</td>\n",
       "      <td>83835</td>\n",
       "      <td>64598</td>\n",
       "      <td>59622</td>\n",
       "      <td>42258</td>\n",
       "    </tr>\n",
       "  </tbody>\n",
       "</table>\n",
       "</div>"
      ],
      "text/plain": [
       "         intent    sex   race  place education\n",
       "count     98015  98015  98015  98015     98015\n",
       "unique        4      2      5     10         4\n",
       "top     Suicide      M  White   Home    HS/GED\n",
       "freq      62291  83835  64598  59622     42258"
      ]
     },
     "execution_count": 12,
     "metadata": {},
     "output_type": "execute_result"
    }
   ],
   "source": [
    "df.describe(include=\"object\")"
   ]
  },
  {
   "cell_type": "markdown",
   "metadata": {},
   "source": [
    "<font color= \"cian\"> How many gun deaths are there by race?"
   ]
  },
  {
   "cell_type": "code",
   "execution_count": 13,
   "metadata": {},
   "outputs": [
    {
     "data": {
      "text/plain": [
       "White                             64598\n",
       "Black                             22675\n",
       "Hispanic                           8603\n",
       "Asian/Pacific Islander             1261\n",
       "Native American/Native Alaskan      878\n",
       "Name: race, dtype: int64"
      ]
     },
     "execution_count": 13,
     "metadata": {},
     "output_type": "execute_result"
    }
   ],
   "source": [
    "df[\"race\"].value_counts()"
   ]
  },
  {
   "cell_type": "code",
   "execution_count": 14,
   "metadata": {},
   "outputs": [
    {
     "data": {
      "text/html": [
       "<div>\n",
       "<style scoped>\n",
       "    .dataframe tbody tr th:only-of-type {\n",
       "        vertical-align: middle;\n",
       "    }\n",
       "\n",
       "    .dataframe tbody tr th {\n",
       "        vertical-align: top;\n",
       "    }\n",
       "\n",
       "    .dataframe thead th {\n",
       "        text-align: right;\n",
       "    }\n",
       "</style>\n",
       "<table border=\"1\" class=\"dataframe\">\n",
       "  <thead>\n",
       "    <tr style=\"text-align: right;\">\n",
       "      <th></th>\n",
       "      <th>race</th>\n",
       "      <th>count</th>\n",
       "      <th>percent</th>\n",
       "      <th>cumulative_count</th>\n",
       "      <th>cumulative_percent</th>\n",
       "    </tr>\n",
       "  </thead>\n",
       "  <tbody>\n",
       "    <tr>\n",
       "      <th>0</th>\n",
       "      <td>White</td>\n",
       "      <td>64598</td>\n",
       "      <td>65.906239</td>\n",
       "      <td>64598</td>\n",
       "      <td>65.906239</td>\n",
       "    </tr>\n",
       "    <tr>\n",
       "      <th>1</th>\n",
       "      <td>Black</td>\n",
       "      <td>22675</td>\n",
       "      <td>23.134214</td>\n",
       "      <td>87273</td>\n",
       "      <td>89.040453</td>\n",
       "    </tr>\n",
       "    <tr>\n",
       "      <th>2</th>\n",
       "      <td>Hispanic</td>\n",
       "      <td>8603</td>\n",
       "      <td>8.777228</td>\n",
       "      <td>95876</td>\n",
       "      <td>97.817681</td>\n",
       "    </tr>\n",
       "    <tr>\n",
       "      <th>3</th>\n",
       "      <td>Asian/Pacific Islander</td>\n",
       "      <td>1261</td>\n",
       "      <td>1.286538</td>\n",
       "      <td>97137</td>\n",
       "      <td>99.104219</td>\n",
       "    </tr>\n",
       "    <tr>\n",
       "      <th>4</th>\n",
       "      <td>Native American/Native Alaskan</td>\n",
       "      <td>878</td>\n",
       "      <td>0.895781</td>\n",
       "      <td>98015</td>\n",
       "      <td>100.000000</td>\n",
       "    </tr>\n",
       "  </tbody>\n",
       "</table>\n",
       "</div>"
      ],
      "text/plain": [
       "                             race  count    percent  cumulative_count  \\\n",
       "0                           White  64598  65.906239             64598   \n",
       "1                           Black  22675  23.134214             87273   \n",
       "2                        Hispanic   8603   8.777228             95876   \n",
       "3          Asian/Pacific Islander   1261   1.286538             97137   \n",
       "4  Native American/Native Alaskan    878   0.895781             98015   \n",
       "\n",
       "   cumulative_percent  \n",
       "0           65.906239  \n",
       "1           89.040453  \n",
       "2           97.817681  \n",
       "3           99.104219  \n",
       "4          100.000000  "
      ]
     },
     "execution_count": 14,
     "metadata": {},
     "output_type": "execute_result"
    }
   ],
   "source": [
    "df.stb.freq([\"race\"])"
   ]
  },
  {
   "cell_type": "markdown",
   "metadata": {},
   "source": [
    "<font color= \"green\"> Mean age by race"
   ]
  },
  {
   "cell_type": "code",
   "execution_count": 15,
   "metadata": {},
   "outputs": [
    {
     "data": {
      "text/plain": [
       "race\n",
       "Asian/Pacific Islander            38.61\n",
       "Black                             31.06\n",
       "Hispanic                          33.14\n",
       "Native American/Native Alaskan    36.49\n",
       "White                             50.04\n",
       "Name: age, dtype: float64"
      ]
     },
     "execution_count": 15,
     "metadata": {},
     "output_type": "execute_result"
    }
   ],
   "source": [
    "mean_race = round(df.groupby([\"race\"])[\"age\"].mean(),2)\n",
    "mean_race"
   ]
  },
  {
   "cell_type": "markdown",
   "metadata": {},
   "source": [
    "<font color= \"cian\"> Trying colors"
   ]
  }
 ],
 "metadata": {
  "kernelspec": {
   "display_name": "Python 3.9.1 64-bit",
   "language": "python",
   "name": "python3"
  },
  "language_info": {
   "codemirror_mode": {
    "name": "ipython",
    "version": 3
   },
   "file_extension": ".py",
   "mimetype": "text/x-python",
   "name": "python",
   "nbconvert_exporter": "python",
   "pygments_lexer": "ipython3",
   "version": "3.9.1"
  },
  "orig_nbformat": 4,
  "vscode": {
   "interpreter": {
    "hash": "11938c6bc6919ae2720b4d5011047913343b08a43b18698fd82dedb0d4417594"
   }
  }
 },
 "nbformat": 4,
 "nbformat_minor": 2
}
